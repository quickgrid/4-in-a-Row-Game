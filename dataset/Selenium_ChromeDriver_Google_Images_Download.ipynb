{
  "nbformat": 4,
  "nbformat_minor": 0,
  "metadata": {
    "colab": {
      "name": "Selenium ChromeDriver Google Images Download.ipynb",
      "provenance": [],
      "collapsed_sections": [
        "0m1th9YC-Ufj"
      ],
      "toc_visible": true,
      "authorship_tag": "ABX9TyP5pa6yJ91LnUlbYdDGUZlO",
      "include_colab_link": true
    },
    "kernelspec": {
      "name": "python3",
      "display_name": "Python 3"
    }
  },
  "cells": [
    {
      "cell_type": "markdown",
      "metadata": {
        "id": "view-in-github",
        "colab_type": "text"
      },
      "source": [
        "<a href=\"https://colab.research.google.com/github/quickgrid/4-in-a-Row-Game/blob/master/dataset/Selenium_ChromeDriver_Google_Images_Download.ipynb\" target=\"_parent\"><img src=\"https://colab.research.google.com/assets/colab-badge.svg\" alt=\"Open In Colab\"/></a>"
      ]
    },
    {
      "cell_type": "markdown",
      "metadata": {
        "id": "MSoiRItN-bIO"
      },
      "source": [
        "## Selenium Google Images Downlaod"
      ]
    },
    {
      "cell_type": "code",
      "metadata": {
        "id": "4gEm-u3jl50I",
        "outputId": "85323589-29a9-4e8b-ea49-4049543c8e23",
        "colab": {
          "base_uri": "https://localhost:8080/"
        }
      },
      "source": [
        "# install chromium, its driver, and selenium\n",
        "!apt update\n",
        "!apt install chromium-chromedriver\n",
        "!pip install selenium"
      ],
      "execution_count": 1,
      "outputs": [
        {
          "output_type": "stream",
          "text": [
            "Get:1 https://cloud.r-project.org/bin/linux/ubuntu bionic-cran40/ InRelease [3,626 B]\n",
            "Ign:2 https://developer.download.nvidia.com/compute/cuda/repos/ubuntu1804/x86_64  InRelease\n",
            "Get:3 http://security.ubuntu.com/ubuntu bionic-security InRelease [88.7 kB]\n",
            "Ign:4 https://developer.download.nvidia.com/compute/machine-learning/repos/ubuntu1804/x86_64  InRelease\n",
            "Get:5 https://developer.download.nvidia.com/compute/cuda/repos/ubuntu1804/x86_64  Release [697 B]\n",
            "Get:6 https://developer.download.nvidia.com/compute/machine-learning/repos/ubuntu1804/x86_64  Release [564 B]\n",
            "Hit:7 http://archive.ubuntu.com/ubuntu bionic InRelease\n",
            "Get:8 http://ppa.launchpad.net/c2d4u.team/c2d4u4.0+/ubuntu bionic InRelease [15.9 kB]\n",
            "Get:9 https://developer.download.nvidia.com/compute/cuda/repos/ubuntu1804/x86_64  Release.gpg [836 B]\n",
            "Get:10 https://developer.download.nvidia.com/compute/machine-learning/repos/ubuntu1804/x86_64  Release.gpg [833 B]\n",
            "Get:11 http://archive.ubuntu.com/ubuntu bionic-updates InRelease [88.7 kB]\n",
            "Ign:12 https://developer.download.nvidia.com/compute/cuda/repos/ubuntu1804/x86_64  Packages\n",
            "Get:12 https://developer.download.nvidia.com/compute/cuda/repos/ubuntu1804/x86_64  Packages [407 kB]\n",
            "Get:13 https://developer.download.nvidia.com/compute/machine-learning/repos/ubuntu1804/x86_64  Packages [58.5 kB]\n",
            "Get:14 http://ppa.launchpad.net/graphics-drivers/ppa/ubuntu bionic InRelease [21.3 kB]\n",
            "Get:15 http://archive.ubuntu.com/ubuntu bionic-backports InRelease [74.6 kB]\n",
            "Get:16 http://security.ubuntu.com/ubuntu bionic-security/multiverse amd64 Packages [15.8 kB]\n",
            "Get:17 http://security.ubuntu.com/ubuntu bionic-security/universe amd64 Packages [1,364 kB]\n",
            "Get:18 http://ppa.launchpad.net/c2d4u.team/c2d4u4.0+/ubuntu bionic/main Sources [1,688 kB]\n",
            "Get:19 http://archive.ubuntu.com/ubuntu bionic-updates/restricted amd64 Packages [247 kB]\n",
            "Get:20 http://archive.ubuntu.com/ubuntu bionic-updates/main amd64 Packages [2,198 kB]\n",
            "Get:21 http://security.ubuntu.com/ubuntu bionic-security/main amd64 Packages [1,781 kB]\n",
            "Get:22 http://security.ubuntu.com/ubuntu bionic-security/restricted amd64 Packages [222 kB]\n",
            "Get:23 http://archive.ubuntu.com/ubuntu bionic-updates/multiverse amd64 Packages [46.3 kB]\n",
            "Get:24 http://archive.ubuntu.com/ubuntu bionic-updates/universe amd64 Packages [2,129 kB]\n",
            "Get:25 http://ppa.launchpad.net/c2d4u.team/c2d4u4.0+/ubuntu bionic/main amd64 Packages [864 kB]\n",
            "Get:26 http://ppa.launchpad.net/graphics-drivers/ppa/ubuntu bionic/main amd64 Packages [46.6 kB]\n",
            "Fetched 11.4 MB in 6s (1,776 kB/s)\n",
            "Reading package lists... Done\n",
            "Building dependency tree       \n",
            "Reading state information... Done\n",
            "38 packages can be upgraded. Run 'apt list --upgradable' to see them.\n",
            "Reading package lists... Done\n",
            "Building dependency tree       \n",
            "Reading state information... Done\n",
            "The following additional packages will be installed:\n",
            "  chromium-browser chromium-browser-l10n chromium-codecs-ffmpeg-extra\n",
            "Suggested packages:\n",
            "  webaccounts-chromium-extension unity-chromium-extension adobe-flashplugin\n",
            "The following NEW packages will be installed:\n",
            "  chromium-browser chromium-browser-l10n chromium-chromedriver\n",
            "  chromium-codecs-ffmpeg-extra\n",
            "0 upgraded, 4 newly installed, 0 to remove and 38 not upgraded.\n",
            "Need to get 80.1 MB of archives.\n",
            "After this operation, 271 MB of additional disk space will be used.\n",
            "Get:1 http://archive.ubuntu.com/ubuntu bionic-updates/universe amd64 chromium-codecs-ffmpeg-extra amd64 86.0.4240.75-0ubuntu0.18.04.1 [1,127 kB]\n",
            "Get:2 http://archive.ubuntu.com/ubuntu bionic-updates/universe amd64 chromium-browser amd64 86.0.4240.75-0ubuntu0.18.04.1 [70.9 MB]\n",
            "Get:3 http://archive.ubuntu.com/ubuntu bionic-updates/universe amd64 chromium-browser-l10n all 86.0.4240.75-0ubuntu0.18.04.1 [3,579 kB]\n",
            "Get:4 http://archive.ubuntu.com/ubuntu bionic-updates/universe amd64 chromium-chromedriver amd64 86.0.4240.75-0ubuntu0.18.04.1 [4,486 kB]\n",
            "Fetched 80.1 MB in 11s (7,567 kB/s)\n",
            "Selecting previously unselected package chromium-codecs-ffmpeg-extra.\n",
            "(Reading database ... 144786 files and directories currently installed.)\n",
            "Preparing to unpack .../chromium-codecs-ffmpeg-extra_86.0.4240.75-0ubuntu0.18.04.1_amd64.deb ...\n",
            "Unpacking chromium-codecs-ffmpeg-extra (86.0.4240.75-0ubuntu0.18.04.1) ...\n",
            "Selecting previously unselected package chromium-browser.\n",
            "Preparing to unpack .../chromium-browser_86.0.4240.75-0ubuntu0.18.04.1_amd64.deb ...\n",
            "Unpacking chromium-browser (86.0.4240.75-0ubuntu0.18.04.1) ...\n",
            "Selecting previously unselected package chromium-browser-l10n.\n",
            "Preparing to unpack .../chromium-browser-l10n_86.0.4240.75-0ubuntu0.18.04.1_all.deb ...\n",
            "Unpacking chromium-browser-l10n (86.0.4240.75-0ubuntu0.18.04.1) ...\n",
            "Selecting previously unselected package chromium-chromedriver.\n",
            "Preparing to unpack .../chromium-chromedriver_86.0.4240.75-0ubuntu0.18.04.1_amd64.deb ...\n",
            "Unpacking chromium-chromedriver (86.0.4240.75-0ubuntu0.18.04.1) ...\n",
            "Setting up chromium-codecs-ffmpeg-extra (86.0.4240.75-0ubuntu0.18.04.1) ...\n",
            "Setting up chromium-browser (86.0.4240.75-0ubuntu0.18.04.1) ...\n",
            "update-alternatives: using /usr/bin/chromium-browser to provide /usr/bin/x-www-browser (x-www-browser) in auto mode\n",
            "update-alternatives: using /usr/bin/chromium-browser to provide /usr/bin/gnome-www-browser (gnome-www-browser) in auto mode\n",
            "Setting up chromium-chromedriver (86.0.4240.75-0ubuntu0.18.04.1) ...\n",
            "Setting up chromium-browser-l10n (86.0.4240.75-0ubuntu0.18.04.1) ...\n",
            "Processing triggers for hicolor-icon-theme (0.17-2) ...\n",
            "Processing triggers for mime-support (3.60ubuntu1) ...\n",
            "Processing triggers for man-db (2.8.3-2ubuntu0.1) ...\n",
            "Collecting selenium\n",
            "\u001b[?25l  Downloading https://files.pythonhosted.org/packages/80/d6/4294f0b4bce4de0abf13e17190289f9d0613b0a44e5dd6a7f5ca98459853/selenium-3.141.0-py2.py3-none-any.whl (904kB)\n",
            "\u001b[K     |████████████████████████████████| 911kB 4.0MB/s \n",
            "\u001b[?25hRequirement already satisfied: urllib3 in /usr/local/lib/python3.6/dist-packages (from selenium) (1.24.3)\n",
            "Installing collected packages: selenium\n",
            "Successfully installed selenium-3.141.0\n"
          ],
          "name": "stdout"
        }
      ]
    },
    {
      "cell_type": "code",
      "metadata": {
        "id": "jrs55wRW_U5b"
      },
      "source": [
        "from selenium import webdriver\n",
        "import re"
      ],
      "execution_count": 2,
      "outputs": []
    },
    {
      "cell_type": "code",
      "metadata": {
        "id": "3Dkal8-Omnfl",
        "outputId": "6470a02e-21c1-4a4c-bb0b-8ec3864ab1d6",
        "colab": {
          "base_uri": "https://localhost:8080/"
        }
      },
      "source": [
        "# set options to be headless, ..\n",
        "options = webdriver.ChromeOptions()\n",
        "options.add_argument('--headless')\n",
        "options.add_argument('--no-sandbox')\n",
        "options.add_argument('--disable-dev-shm-usage')\n",
        "# open it, go to a website, and get results\n",
        "wd = webdriver.Chrome('chromedriver',options=options)\n",
        "\n",
        "##============================================================\n",
        "\n",
        "\n",
        "# URL = 'https://www.google.com/search?q=pocket+knife&tbm=isch'\n",
        "# directory = 'dataset'\n",
        "\n",
        "\n",
        "# URL = 'https://www.google.com/search?q=hand+knife&tbm=isch'\n",
        "# directory = 'dataset3'\n",
        "\n",
        "\n",
        "# URL = 'https://www.google.com/search?q=hunting+knife&tbm=isch'\n",
        "# directory = 'dataset4'\n",
        "\n",
        "\n",
        "URL = 'https://www.google.com/search?q=steel+knife&tbm=isch'\n",
        "directory = 'dataset5'\n",
        "\n",
        "\n",
        "##============================================================\n",
        "\n",
        "\n",
        "wd.get(URL)\n",
        "page = wd.page_source\n",
        "#print(page)  # results\n",
        "\n",
        "\n",
        "p = \"(https://.*\\.jpg)|(http://.*\\.jpg)\"\n",
        "links = re.findall(p, page)\n",
        "print(links)\n",
        "print(len(links))"
      ],
      "execution_count": 29,
      "outputs": [
        {
          "output_type": "stream",
          "text": [
            "[('https://cdn.cutleryandmore.com/products/large/36825.jpg', ''), ('https://images-na.ssl-images-amazon.com/images/I/61nImLk20kL._AC_SL1500_.jpg', ''), ('https://images-na.ssl-images-amazon.com/images/I/81IkN9TozLL._AC_SL1500_.jpg', ''), ('https://pics.knifecenter.com/knifecenter/rmurphy/images/RMCH8CIIHOt.jpg', ''), ('https://media.wired.com/photos/59e951b5a00183307dad4281/master/w_2560%2Cc_limit/MisenTA.jpg', ''), ('https://cdn.cutleryandmore.com/media/images/34922.jpg', ''), ('https://www.seriouseats.com/images/2014/12/20141215-carbon-steel-knives-vicky-wasik-2-300x225.jpg', ''), ('https://images-na.ssl-images-amazon.com/images/I/81b030PRp%2BL._AC_SL1500_.jpg', ''), ('https://cdn.shopify.com/s/files/1/0287/6884/products/N_6VRN_COUTEAU_CARBONE-451200_758283b3-13cb-4e78-a7c0-4b16456982eb_2000x.jpg', ''), ('https://ae01.alicdn.com/kf/HTB1FFIQaUD1gK0jSZFGq6zd3FXav/Sowoll-Stainless-Steel-Knife-Seamless-Welding-Resin-Fibre-Handle-High-Carbon-Blade-Utility-Chef-Chopping-Knife.jpg', ''), ('https://cdn.opinel.com/sites/default/files/produit/boutique/ndeg08_inox_web_0.jpg', ''), ('https://cdn.shopify.com/s/files/1/0021/8755/8957/products/pallares-solsona-carbon-steel-knives-13908-paring-knife-utility-knife_1024x.jpg', ''), ('https://sc01.alicdn.com/kf/HTB1jPuARVXXXXcRXXXXq6xXFXXXp/202559020/HTB1jPuARVXXXXcRXXXXq6xXFXXXp.jpg', ''), ('https://cdn.shopify.com/s/files/1/1070/0228/products/Chef_Knife_Adjusted_Angle_to_make_look_bigger_2048x2048.jpg', ''), ('https://cdn03.plentymarkets.com/kbn25bo3lxbc/item/images/20951/middle/Sugimoto-Chopper-Stainless-Steel-Japanese-Cleaver-Kitchen-Knife-19cm-x-9cm-1.jpg', ''), ('https://www.buckknives.com/images/products/hero/0346RWS-B.jpg', ''), ('https://media.knivesandtools.com/Exact1200x800/96079/cs49lck$02-cold-steel.jpg', ''), ('https://www.garrettwade.com/media/catalog/product/cache/1/image/730x/0dc2d03fe217f8c83829496872af24a0/7/5/75a0123_damascuschefsknife_1.jpg', ''), ('https://cdn.shopify.com/s/files/1/1728/9189/products/SS-X_8in_Chef_MAIN_v04.1.jpg', ''), ('https://cdn11.bigcommerce.com/s-9wf1h2m89g/images/stencil/2000x2000/products/2638/20021/C11FPNBD__91052.1600897622.jpg', ''), ('https://www.coldsteel.com/product/image/medium/20npm1_1.jpg', ''), ('https://www.boundarywaterscatalog.com/prodimages/7700-DEFAULT-l.jpg', ''), ('https://s.yimg.com/aah/yhst-36451256984760/buckshot-thumb-open-spring-assisted-damascus-steel-knife-39.jpg', ''), ('https://ak1.ostkcdn.com/images/products/is/images/direct/a0ed70afcdee3393d2488e0b070c4e4a1206eabd/Professional-Stainless-Steel-Serrated-Blade-Cake-Slicing-Bread-Slicer-Knife.jpg', ''), ('https://images.homedepot-static.com/productImages/b6162a40-396a-41aa-9406-60632d359226/svn/coast-folding-knives-dx344-66_600.jpg', ''), ('https://www.citizenknives.com/wp-content/uploads/2019/02/IMG_2615.....-copy.jpg', ''), ('', 'http://static.dudeiwantthat.com//img/exclusives/forseti-damascus-steel-knives-24067.jpg'), ('https://cdn11.bigcommerce.com/s-zfjwlxfdwk/images/stencil/1280x1280/products/211/2147/MK-79-01__54928.1574707272.jpg', ''), ('https://media.almazankitchen.com/2020/06/Stainless-4-scaled.jpg', ''), ('https://kitchentoolstore4u.com/wp-content/uploads/2018/11/SOWOLL-4CR14-Stainless-Steel-Knife-7-inch-Chopping-Knife-Non-stick-Cooking-Tool-Very-Sharp-and.jpg', ''), ('https://cdn.shopify.com/s/files/1/0287/6884/products/N_08_INOX45.00_2000x.jpg', ''), ('https://cdn.shopify.com/s/files/1/0028/3698/8016/products/altomino-tungsten-steel-slicing-knife-238780_1000x.jpg', ''), ('https://www.swordsknivesanddaggers.com/assets/images/BK4550.jpg', ''), ('', 'http://mobileimages.lowes.com/product/converted/885911/885911576826.jpg'), ('https://cdn.webshopapp.com/shops/32318/files/294174228/600x600x2/knife-blade-damascus-steel-13-cm.jpg', ''), ('https://previews.123rf.com/images/morphart/morphart1904/morphart190402026/123452192-a-sharp-steel-blade-knife-used-in-kitchen-for-chopping-or-cutting-vector-color-drawing-or-illustrati.jpg', ''), ('https://www.bladehq.com/imgs/knives/butterfly-knives/Kershaw-Lucha-Balisong-Butterfly-SS-SW-5150-BHQ-105983-jr-bottlecap-large.jpg', ''), ('https://pics.knifecenter.com/knifecenter/coldsteel/images/CS36MH_2.jpg', ''), ('https://redknives.com/wp-content/uploads/2018/08/FB_IMG_1532858061711.jpg', ''), ('https://cdnimg.webstaurantstore.com/images/products/large/17480/2011285.jpg', ''), ('https://www.tokyoweekender.com/wp-content/uploads/2017/04/kamata2.jpg', ''), ('https://media.knivesandtools.com/Exact675x450/111135/op007$01-opinel-v201901.jpg', ''), ('https://www.coldsteel.com/product/image/medium/40a_1.jpg', ''), ('https://cdn11.bigcommerce.com/s-zfjwlxfdwk/images/stencil/1280x1280/products/189/1662/MK-60-Anubis-Damascus-Steel-Knife-02__27439.1552324105.jpg', ''), ('https://hips.hearstapps.com/amv-prod-gp.s3.amazonaws.com/gearpatrol/wp-content/uploads/2020/06/German-vs-Japanese-Knives-Gear-Patrol-Lead-Full.jpg', ''), ('https://images.homedepot-static.com/productImages/078274db-92df-4974-a1c0-cc45cb5add42/svn/kitchenaid-knife-sets-kkfss12bo-4f_600.jpg', ''), ('https://media.wired.com/photos/5ee161bcd916dc1ac6a5a5f6/master/w_400%2Cc_limit/Gear-Victorinox-Fibrox-Pro-SOURCE-Amazon.jpg', ''), ('', 'http://mobileimages.lowes.com/product/converted/013658/013658153714.jpg'), ('https://learning-center.katom.com/wp-content/uploads/2017/05/Why-Does-Carbon-Steel-Turn-Black.jpg', ''), ('https://images-na.ssl-images-amazon.com/images/I/61SkI2dKGwL._AC_SL1000_.jpg', ''), ('https://s3.amazonaws.com/images.gearjunkie.com/uploads/2015/05/Koster-Knives-MUCK.jpg', ''), ('https://lapetitnoisette.files.wordpress.com/2019/08/48372210582_19d3cea4c3_k.jpg', ''), ('https://upload.wikimedia.org/wikipedia/commons/8/8f/Cucina_012.jpg', ''), ('https://i.ytimg.com/vi/mzSCxtHccFA/maxresdefault.jpg', ''), ('https://knifenews.com/wp-content/uploads/2020/03/unnamed-2.jpg', ''), ('https://cdn.shopify.com/s/files/1/0004/8893/1386/products/586287.jpg', ''), ('https://cdn1.fnsharp.com/wp-content/uploads/2019/10/types-of-stainless-steel-featured.jpg', ''), ('https://s3.amazonaws.com/images.gearjunkie.com/uploads/2019/03/Artisan-Revere-elmax-kitchen-knife.jpg', ''), ('https://www.surlatable.com/dw/image/v2/BCJL_PRD/on/demandware.static/-/Sites-shop-slt-master-catalog/default/dw78cd88c9/images/large/789693_s.jpg', ''), ('https://pyxis.nymag.com/v1/imgs/4dc/f76/0613cdcfb5c309f3fa50cad47b36e8da81-stainless-steel-kitchen-knife.rsquare.w600.jpg', ''), ('https://cdn.shopify.com/s/files/1/0287/6884/products/No07Folded_400x.jpg', ''), ('https://cdn.shopify.com/s/files/1/0883/0264/products/21_mm_style_back_987847bd-e577-4b93-b773-d8349edcb8ad.jpg', ''), ('https://hips.hearstapps.com/amv-prod-gp.s3.amazonaws.com/gearpatrol/wp-content/uploads/2019/05/Care-for-Carbon-Steel-Gear-Patrol-Ambiance.jpg', ''), ('https://kitchennexus.com/wp-content/uploads/2019/12/7-Best-Damascus-Steel-Chef-Knife-To-Buy.jpg', ''), ('https://www.materials.sandvik/filtered/17238/rszww880mh250-90/sandvik-knife-steels-1652415795-rszww880mh250-90.jpg', ''), ('https://robbreport.com/wp-content/uploads/2020/05/feature01.jpg', ''), ('https://www.metalsupermarkets.com/wp-content/uploads/2017/05/2-e1495730532648.jpg', ''), ('https://www.webstaurantstore.com/images/products/medium/369297/1504183.jpg', ''), ('https://i.ytimg.com/vi/bP4Ce96bza4/maxresdefault.jpg', ''), ('https://cdn.hiconsumption.com/wp-content/uploads/2017/04/Whats-The-Difference-Carbon-Steel-Versus-Stainless-Steel-0-1087x725.jpg', ''), ('https://www.coldsteel.com/product/image/medium/80pgtk_1.jpg', ''), ('https://images.homedepot-static.com/productImages/6e5db424-60c8-40a4-9f99-cb824181fa5e/svn/coast-fixed-blade-knives-f400-64_600.jpg', ''), ('https://cdn.cheapoguides.com/wp-content/uploads/sites/2/2019/07/carbon-steel-knife_Veni_vidishoot_iStock-1212071235-770x513.jpg', ''), ('https://knifenews.com/wp-content/uploads/2020/01/cold-steel-4max-scout.jpg', ''), ('https://assets.bespokepost.com/media/W1siZiIsIjIwMTkvMTIvMTMvMjIvMzcvNDMvNzE5MzhlNzQtNzRlMS00ZTZiLWI4MjMtZTYzMDYxMmMxOWU0LzAxX0ZvcmdlXzE3XzA1My5qcGciXSxbInAiLCJ0aHVtYiIsIjExMjB4XHUwMDNlIl1d/01_Forge_17_053.jpg', ''), ('https://cdn11.bigcommerce.com/s-zfjwlxfdwk/images/stencil/1280x1280/products/136/2000/MK-25-Kimura-Tanto-Damascus-Steel-Knife-02__00800.1567018419.jpg', ''), ('https://agrussell.com/files/content/image/stainless%20vs%20non-stainless%20steel%20%20orange%201200x630.jpg', ''), ('https://www.swordsknivesanddaggers.com/assets/images/DHK2227.jpg', ''), ('https://www.charlietrotters.com/wp-content/uploads/2020/02/sharpening-stainless-steel.jpg', ''), ('https://www.reliance-foundry.com/wp-content/uploads/carbon-steel-knives-1.jpg', ''), ('https://i.pinimg.com/originals/f4/b5/e2/f4b5e22dafd34d33731fe36cc26a8c27.jpg', '')]\n",
            "81\n"
          ],
          "name": "stdout"
        }
      ]
    },
    {
      "cell_type": "code",
      "metadata": {
        "id": "Xmje8HbtuPJE",
        "outputId": "44d4e25c-4331-4c4d-e3ef-e398773f5872",
        "colab": {
          "base_uri": "https://localhost:8080/"
        }
      },
      "source": [
        "!pwd"
      ],
      "execution_count": 10,
      "outputs": [
        {
          "output_type": "stream",
          "text": [
            "/content\n"
          ],
          "name": "stdout"
        }
      ]
    },
    {
      "cell_type": "code",
      "metadata": {
        "id": "dTLfw-aJc2s5"
      },
      "source": [
        "!rm -r \"/content/dataset4\""
      ],
      "execution_count": 15,
      "outputs": []
    },
    {
      "cell_type": "code",
      "metadata": {
        "id": "qlQqfhmfe7Rz",
        "outputId": "d018bde2-abe0-4a94-e09a-7e7f661eb39d",
        "colab": {
          "base_uri": "https://localhost:8080/"
        }
      },
      "source": [
        "%cd \"/content/dataset4\""
      ],
      "execution_count": 23,
      "outputs": [
        {
          "output_type": "stream",
          "text": [
            "/content/dataset4\n"
          ],
          "name": "stdout"
        }
      ]
    },
    {
      "cell_type": "code",
      "metadata": {
        "id": "wOQUO85be9eA"
      },
      "source": [
        "!ls -1"
      ],
      "execution_count": 26,
      "outputs": []
    },
    {
      "cell_type": "code",
      "metadata": {
        "id": "t01kbRwhuNjX",
        "outputId": "c0709528-cede-4872-e946-85527aedfcae",
        "colab": {
          "base_uri": "https://localhost:8080/"
        }
      },
      "source": [
        "## Imports\n",
        "import os\n",
        "from bs4 import BeautifulSoup as Soup\n",
        "from selenium import webdriver\n",
        "import requests\n",
        "\n",
        "\n",
        "def save_images(URLs, directory):\n",
        "\n",
        "    if not os.path.isdir(directory):\n",
        "        os.mkdir(directory)\n",
        "\n",
        "    for i, url in enumerate(URLs):\n",
        "        \n",
        "        (a, b) = url\n",
        "        if len(a) != 0:\n",
        "          try:\n",
        "            response = requests.get(a, timeout=3)\n",
        "          except:\n",
        "            print(\"Could not download: \", a)\n",
        "            continue\n",
        "        else:\n",
        "          try:\n",
        "            response = requests.get(b, timeout=3)\n",
        "          except:\n",
        "            print(\"Could not download: \", b)\n",
        "            continue\n",
        "\n",
        "        \n",
        "        ## Write image if sucessful\n",
        "        print(\"writing image: \", i)\n",
        "\n",
        "\n",
        "        ## renamed image download\n",
        "        #savePath = os.path.join(directory, '{:06}.jpg'.format(i))\n",
        "        \n",
        "        ## original image download\n",
        "        original_image_name = a.split('/')[-1]\n",
        "        savePath = os.path.join(directory, original_image_name)\n",
        "        #savePath = os.path.join(directory, original_image_name + '.jpg')\n",
        "\n",
        "\n",
        "        try:\n",
        "            file = open(savePath, \"wb\")\n",
        "            file.write(response.content)\n",
        "            file.close()\n",
        "        except:\n",
        "            print('Failed to download: ', url)\n",
        "\n",
        "\n",
        "\n",
        "save_images(links, directory)"
      ],
      "execution_count": 30,
      "outputs": [
        {
          "output_type": "stream",
          "text": [
            "writing image:  0\n",
            "writing image:  1\n",
            "writing image:  2\n",
            "writing image:  3\n",
            "writing image:  4\n",
            "writing image:  5\n",
            "writing image:  6\n",
            "writing image:  7\n",
            "writing image:  8\n",
            "writing image:  9\n",
            "writing image:  10\n",
            "writing image:  11\n",
            "writing image:  12\n",
            "writing image:  13\n",
            "writing image:  14\n",
            "writing image:  15\n",
            "writing image:  16\n",
            "writing image:  17\n",
            "writing image:  18\n",
            "Could not download:  https://cdn11.bigcommerce.com/s-9wf1h2m89g/images/stencil/2000x2000/products/2638/20021/C11FPNBD__91052.1600897622.jpg\n",
            "Could not download:  https://www.coldsteel.com/product/image/medium/20npm1_1.jpg\n",
            "writing image:  21\n",
            "writing image:  22\n",
            "writing image:  23\n",
            "writing image:  24\n",
            "writing image:  25\n",
            "writing image:  26\n",
            "Failed to download:  ('', 'http://static.dudeiwantthat.com//img/exclusives/forseti-damascus-steel-knives-24067.jpg')\n",
            "writing image:  27\n",
            "writing image:  28\n",
            "Could not download:  https://kitchentoolstore4u.com/wp-content/uploads/2018/11/SOWOLL-4CR14-Stainless-Steel-Knife-7-inch-Chopping-Knife-Non-stick-Cooking-Tool-Very-Sharp-and.jpg\n",
            "writing image:  30\n",
            "writing image:  31\n",
            "writing image:  32\n",
            "writing image:  33\n",
            "Failed to download:  ('', 'http://mobileimages.lowes.com/product/converted/885911/885911576826.jpg')\n",
            "writing image:  34\n",
            "writing image:  35\n",
            "writing image:  36\n",
            "writing image:  37\n",
            "writing image:  38\n",
            "writing image:  39\n",
            "writing image:  40\n",
            "writing image:  41\n",
            "Could not download:  https://www.coldsteel.com/product/image/medium/40a_1.jpg\n",
            "writing image:  43\n",
            "writing image:  44\n",
            "writing image:  45\n",
            "writing image:  46\n",
            "writing image:  47\n",
            "Failed to download:  ('', 'http://mobileimages.lowes.com/product/converted/013658/013658153714.jpg')\n",
            "writing image:  48\n",
            "writing image:  49\n",
            "writing image:  50\n",
            "writing image:  51\n",
            "writing image:  52\n",
            "writing image:  53\n",
            "writing image:  54\n",
            "writing image:  55\n",
            "writing image:  56\n",
            "writing image:  57\n",
            "writing image:  58\n",
            "writing image:  59\n",
            "writing image:  60\n",
            "writing image:  61\n",
            "writing image:  62\n",
            "writing image:  63\n",
            "writing image:  64\n",
            "writing image:  65\n",
            "writing image:  66\n",
            "writing image:  67\n",
            "writing image:  68\n",
            "writing image:  69\n",
            "Could not download:  https://www.coldsteel.com/product/image/medium/80pgtk_1.jpg\n",
            "writing image:  71\n",
            "writing image:  72\n",
            "writing image:  73\n",
            "writing image:  74\n",
            "writing image:  75\n",
            "writing image:  76\n",
            "writing image:  77\n",
            "writing image:  78\n",
            "writing image:  79\n",
            "writing image:  80\n"
          ],
          "name": "stdout"
        }
      ]
    },
    {
      "cell_type": "code",
      "metadata": {
        "id": "BWrnXdf9cVDJ"
      },
      "source": [
        "!zip \"/content/dataset1.zip\" \"/content/dataset\""
      ],
      "execution_count": null,
      "outputs": []
    },
    {
      "cell_type": "markdown",
      "metadata": {
        "id": "0m1th9YC-Ufj"
      },
      "source": [
        "## Other Helpful Code"
      ]
    },
    {
      "cell_type": "code",
      "metadata": {
        "id": "hndd8Gk8-RiE"
      },
      "source": [
        "# from time import sleep # this should go at the top of the file\n",
        "\n",
        "# sleep(5)\n",
        "# html = wd.execute_script(\"return document.getElementsByTagName('html')[0].innerHTML\")\n",
        "# print(html)\n",
        "\n",
        "# wait = WebDriverWait(wd, 10)\n",
        "\n",
        "# try:\n",
        "#     #wait for the page to load completely\n",
        "#     element = wait.until(EC.visibility_of_all_elements_located((By.XPATH, \"/html/body\")))\n",
        "#     time.sleep(1)\n",
        "#     print(wd.page_source)\n",
        "# finally:\n",
        "#     #pass\n",
        "#     wd.quit()\n",
        "\n",
        "\n",
        "\n",
        "\n",
        "\n",
        "\n",
        "#new_page = wd.execute_script(\"return document.documentElement.outerHTML\")\n",
        "#print(new_page)\n",
        "\n",
        "\n",
        "# wd.execute_script(\"window.scrollTo(0, document.body.scrollHeight);\")\n",
        "# wd.execute_script(\"window.scrollTo(0, document.body.scrollHeight);\")\n",
        "\n",
        "# sleep(5)\n",
        "\n",
        "# print(wd.page_source)\n",
        "\n",
        "\n",
        "# from time import sleep # this should go at the top of the file\n",
        "\n",
        "# sleep(5)\n",
        "# html = wd.execute_script(\"return document.getElementsByTagName('html')[0].innerHTML\")\n",
        "# print(html)"
      ],
      "execution_count": null,
      "outputs": []
    },
    {
      "cell_type": "code",
      "metadata": {
        "id": "c7YCif-F1Kxs",
        "outputId": "5b0cbcb3-319d-455d-b7c3-01449da96cdd",
        "colab": {
          "base_uri": "https://localhost:8080/"
        }
      },
      "source": [
        "import urllib3\n",
        "\n",
        "http = urllib3.PoolManager()\n",
        "r = http.request('GET', URL)\n",
        "\n",
        "print(r.status)\n",
        "print(r.data)\n",
        "\n"
      ],
      "execution_count": null,
      "outputs": [
        {
          "output_type": "stream",
          "text": [
            "200\n",
            "b'<!doctype html>\\n<html lang=\"en\">\\n<head>\\n    <base href=\"https://www.qwant.com\">\\n    <meta charset=\"utf-8\">\\n    <meta http-equiv=\"X-UA-Compatible\" content=\"IE=edge\">\\n    <title>Qwant</title>\\n    <meta name=\"theme-color\" content=\"#FFFFFF\">\\n    <meta name=\"twitter:card\" content=\"summary_large_image\">\\n    <meta name=\"twitter:site\" content=\"@QwantCom\">\\n    <meta name=\"twitter:creator\" content=\"@QwantCom\">\\n    <meta name=\"twitter:title\" content=\"Qwant \\xe2\\x80\\x93 The search engine that respects your privacy.\">\\n    <meta name=\"twitter:description\" content=\"Qwant is a search engine that respects your privacy and eases discovering and sharing via a social approach.\">\\n    <meta name=\"twitter:image:src\" content=\"/QWANT_Meta.png?1539938515\">\\n    <meta name=\"twitter:domain\" content=\"https://www.qwant.com\">\\n    <meta property=\"og:title\" content=\"Qwant\" id=\"meta_og_title\"/>\\n    <meta property=\"og:site_name\" content=\"Qwant\"/>\\n    <meta property=\"og:image\" content=\"https://www.qwant.com/QWANT_Meta.png?1539938515\" />\\n    <meta property=\"og:image:width\" content=\"1000\" />\\n    <meta property=\"og:image:height\" content=\"536\" />\\n    <meta property=\"og:type\" content=\"website\"/>\\n    <meta property=\"og:url\" content=\"https://www.qwant.com/\" id=\"meta_og_url\"/>\\n    <meta name=\"description\"\\n          content=\"Qwant is a search engine that respects your privacy and eases discovering and sharing via a social approach.\"\\n          id=\"meta_description\"/>\\n    <meta property=\"og:description\"\\n          content=\"Qwant is a search engine that respects your privacy and eases discovering and sharing via a social approach.\"\\n          id=\"meta_og_description\"/>\\n    <meta name=\"keywords\" content=\"qwant search engine privacy\" id=\"meta_keywords\">\\n    <meta name=\"application-name\" content=\"Qwant\"/>\\n    <meta name=\"twitter:widgets:csp\" content=\"on\"/>\\n    <meta name=\"viewport\" content=\"width=device-width, initial-scale=1.0, user-scalable=no\">\\n    <link rel=\"stylesheet\" href=\"css/style.css?1604396809809\">\\n    <meta name=\"robots\" content=\"index\">\\n    <link rel=\"shortcut icon\" href=\"/favicon.ico?1539938515\" type=\"image/x-icon\">\\n    <link rel=\"icon\" href=\"/favicon.png?1539938515\" type=\"image/png\">\\n    <link rel=\"icon\" sizes=\"32x32\" href=\"/favicon-32.png?1539938515\" type=\"image/png\">\\n    <link rel=\"icon\" sizes=\"64x64\" href=\"/favicon-64.png?1539938515\" type=\"image/png\">\\n    <link rel=\"icon\" sizes=\"96x96\" href=\"/favicon-96.png?1539938515\" type=\"image/png\">\\n    <link rel=\"icon\" sizes=\"144x144\" href=\"/favicon-144.png?1539938515\" type=\"image/png\">\\n    <link rel=\"icon\" sizes=\"152x152\" href=\"/favicon-152.png?1539938515\" type=\"image/png\">\\n    <link rel=\"icon\" sizes=\"196x196\" href=\"/favicon-196.png?1539938515\" type=\"image/png\">\\n    <link rel=\"apple-touch-icon\" sizes=\"152x152\" href=\"/apple-touch-icon.png?1539938515\">\\n    <link rel=\"apple-touch-icon\" sizes=\"60x60\" href=\"/apple-touch-icon-60x60.png?1539938515\">\\n    <link rel=\"apple-touch-icon\" sizes=\"76x76\" href=\"/apple-touch-icon-76x76.png?1539938515\">\\n    <link rel=\"apple-touch-icon\" sizes=\"114x114\" href=\"/apple-touch-icon-114x114.png?1539938515\">\\n    <link rel=\"apple-touch-icon\" sizes=\"120x120\" href=\"/apple-touch-icon-120x120.png?1539938515\">\\n    <link rel=\"apple-touch-icon\" sizes=\"144x144\" href=\"/apple-touch-icon-144x144.png?1539938515\">\\n    <link rel=\"apple-touch-icon-precomposed\" href=\"/favicon-152.png?1539938515\">\\n    <meta name=\"msapplication-TileImage\" content=\"/favicon-144.png?1539938515\">\\n    <meta name=\"msapplication-TileColor\" content=\"#FFFFFF\">\\n    <meta name=\"msapplication-config\" content=\"browserconfig.xml\">\\n    <meta name=\"referrer\" content=\"origin\">\\n    <link rel=\"canonical\" href=\"https://www.qwant.com/\"/>\\n    <link rel=\"search\" type=\"application/opensearchdescription+xml\" title=\"Qwant\"\\n          href=\"https://www.qwant.com/opensearch.xml\"/>\\n    <link rel=\"chrome-webstore-item\" href=\"https://chrome.google.com/webstore/detail/hnlkiofnhhoahaiimdicppgemmmomijo\">\\n            <link rel=\"alternate\" hreflang=\"fr\" href=\"https://www.qwant.com/?l=fr&q=bus&t=images\"/>\\n            <link rel=\"alternate\" hreflang=\"en\" href=\"https://www.qwant.com/?l=en&q=bus&t=images\"/>\\n            <link rel=\"alternate\" hreflang=\"de\" href=\"https://www.qwant.com/?l=de&q=bus&t=images\"/>\\n            <link rel=\"alternate\" hreflang=\"it\" href=\"https://www.qwant.com/?l=it&q=bus&t=images\"/>\\n            <link rel=\"alternate\" hreflang=\"br\" href=\"https://www.qwant.com/?l=br&q=bus&t=images\"/>\\n            <link rel=\"alternate\" hreflang=\"ca\" href=\"https://www.qwant.com/?l=ca&q=bus&t=images\"/>\\n            <link rel=\"alternate\" hreflang=\"co\" href=\"https://www.qwant.com/?l=co&q=bus&t=images\"/>\\n            <link rel=\"alternate\" hreflang=\"es\" href=\"https://www.qwant.com/?l=es&q=bus&t=images\"/>\\n            <link rel=\"alternate\" hreflang=\"eu\" href=\"https://www.qwant.com/?l=eu&q=bus&t=images\"/>\\n            <link rel=\"alternate\" hreflang=\"nl\" href=\"https://www.qwant.com/?l=nl&q=bus&t=images\"/>\\n            <link rel=\"alternate\" hreflang=\"pl\" href=\"https://www.qwant.com/?l=pl&q=bus&t=images\"/>\\n            <link rel=\"alternate\" hreflang=\"pt\" href=\"https://www.qwant.com/?l=pt&q=bus&t=images\"/>\\n            <link rel=\"alternate\" hreflang=\"ru\" href=\"https://www.qwant.com/?l=ru&q=bus&t=images\"/>\\n        <link rel=\"alternate\" href=\"https://www.qwant.com/\" hreflang=\"x-default\"/>\\n            <link rel=\"manifest\" href=\"/manifest.json\">\\n    </head>\\n<body id=\"top\" class=\" desktop v4 verticals_round verticals_redirect blue_links\">\\n\\n    <noscript>\\n                    <meta http-equiv=\"refresh\" content=\"0;url=//lite.qwant.com/?q=bus&t=images\">\\n            </noscript>\\n\\n    <div id=\"app\" role=\"main\"></div>\\n\\n    <div id=\"extension--enabled\" class=\"result--ext extension--enabled sponsored_content\"></div>\\n    <div id=\"resultsShoppingList\" class=\"shopping--enabled\"></div>\\n\\n    <script>\\n        window.configuration = {};\\n        window.constants = {};\\n        window.configOverloadProxy = function () {\\n            config_set(\\'appTitle\\',                              \"Qwant\" );\\n            config_set(\\'musicUrl\\',                              \"//www.qwant.com/music/\" );\\n            config_set(\\'mapsUrl\\',                               \"//www.qwant.com/maps/\" );\\n            config_set(\\'searchUrl\\',                             \"//www.qwant.com/\" );\\n            config_set(\\'wwwUrl\\',                                \"//www.qwant.com/\" );\\n            config_set(\\'liteUrl\\',                               \"//lite.qwant.com\" );\\n            config_set(\\'blogUrl\\',                               \"//blog.qwant.com/\" );\\n            config_set(\\'juniorUrl\\',                             \"//www.qwantjunior.com/\" );\\n            config_set(\\'qwantUrl\\',                              \"https\" + \"://www.qwant.com\" );\\n            config_set(\\'reportQwantUrl\\',                        \"https\" + \"://report.qwant.com\" );\\n            config_set(\\'geoloc.enabled\\',                        true );\\n            config_set(\\'lite.bridge\\',                           true );\\n            config_set(\\'application.junior.enabled\\',            true );\\n            config_set(\\'trends.enabled\\',                        true );\\n            config_set(\\'bookmarks.enabled\\',                     true );\\n            config_set(\\'report.enabled\\',                        false );\\n            config_set(\\'logo.url\\',                              \"/img/logo/logo-310.png\" );\\n            config_set(\\'report.from-users.enabled\\',             true );\\n            config_set(\\'feedback.enabled\\',                      true );\\n            config_set(\\'ads.enabled\\',                           true );\\n            config_set(\\'restricted.categories\\',                 false );\\n            config_set(\\'account.email.message.enabled\\',         false );\\n            config_set(\\'account.start-page.enabled\\',            false );\\n            config_set(\\'snippet.add-qwant.enabled\\',             false );\\n            config_set(\\'features.l10n.lang.detect.enabled\\',     true );\\n            config_set(\\'features.l10n.lang.default\\',            \"en_gb\" );\\n            config_set(\\'features.l10n.region.default\\',          \"GB\" );\\n            config_set(\\'features.l10n.continent.default\\',       \\'WESTERNEUROPE\\' );\\n            config_set(\\'features.l10n.lang.switch.enabled\\',     true );\\n            config_set(\\'features.l10n.region.switch.enabled\\',   true );\\n            config_set(\\'project.interface.languages\\',           {\"fr_fr\":{\"name\":\"Fran\\xc3\\xa7ais\",\"shorthand\":\"fr\",\"code\":\"fr_fr\"},\"en_gb\":{\"name\":\"English\",\"shorthand\":\"en\",\"code\":\"en_gb\"},\"de_de\":{\"name\":\"Deutsch\",\"shorthand\":\"de\",\"code\":\"de_de\"},\"it_it\":{\"name\":\"Italiano\",\"shorthand\":\"it\",\"code\":\"it_it\"},\"br_fr\":{\"name\":\"Brezhoneg\",\"shorthand\":\"br\",\"code\":\"br_fr\"},\"ca_es\":{\"name\":\"Catal\\xc3\\xa0\",\"shorthand\":\"ca\",\"code\":\"ca_es\"},\"co_fr\":{\"name\":\"Corsu\",\"shorthand\":\"co\",\"code\":\"co_fr\"},\"es_es\":{\"name\":\"Espa\\xc3\\xb1ol\",\"shorthand\":\"es\",\"code\":\"es_es\"},\"eu_es\":{\"name\":\"Euskara\",\"shorthand\":\"eu\",\"code\":\"eu_es\"},\"nl_nl\":{\"name\":\"Nederlands\",\"shorthand\":\"nl\",\"code\":\"nl_nl\"},\"pl_pl\":{\"name\":\"Polski\",\"shorthand\":\"pl\",\"code\":\"pl_pl\"},\"pt_pt\":{\"name\":\"Portugu\\xc3\\xaas\",\"shorthand\":\"pt\",\"code\":\"pt_pt\"},\"ru_ru\":{\"name\":\"\\xd0\\xa0\\xd1\\x83\\xd1\\x81\\xd1\\x81\\xd0\\xba\\xd0\\xb8\\xd0\\xb9\",\"shorthand\":\"ru\",\"code\":\"ru_ru\"}} );\\n            config_set(\\'project.regionalisation\\',               {\"continents\":{\"WESTERNEUROPE\":{\"code\":\"WESTERNEUROPE\",\"name\":\"Western Europe\",\"countries\":[\"FR\",\"DE\",\"GB\",\"IE\",\"IT\",\"BE\",\"AT\",\"CH\",\"ES\",\"PT\",\"AD\",\"NL\",\"GR\",\"FI\",\"DK\",\"NO\",\"SE\"],\"i18n\":{\"label\":\"Western Europe\",\"context\":\"continent\"}},\"EASTERNEUROPE\":{\"code\":\"EASTERNEUROPE\",\"name\":\"Eastern Europe\",\"countries\":[\"PL\",\"RU\",\"BG\",\"CZ\",\"EE\",\"HU\",\"RO\"],\"i18n\":{\"label\":\"Eastern Europe\",\"context\":\"continent\"}},\"AMERICAS\":{\"code\":\"AMERICAS\",\"name\":\"Americas\",\"countries\":[\"US\",\"CA\",\"BR\",\"AR\",\"CL\",\"MX\"],\"i18n\":{\"label\":\"Americas\",\"context\":\"continent\"}},\"ASIA\":{\"code\":\"ASIA\",\"name\":\"Asia\",\"countries\":[\"RU\",\"JP\",\"SG\",\"IN\",\"MY\",\"KR\",\"PH\",\"TH\"],\"i18n\":{\"label\":\"Asia\",\"context\":\"continent\"}},\"MIDDLEEAST\":{\"code\":\"MIDDLEEAST\",\"name\":\"Middle East\",\"countries\":[\"IL\",\"TR\"],\"i18n\":{\"label\":\"Middle East\",\"context\":\"continent\"}},\"OCEANIA\":{\"code\":\"OCEANIA\",\"name\":\"Oceania\",\"countries\":[\"AU\",\"NZ\"],\"i18n\":{\"label\":\"Oceania\",\"context\":\"continent\"}}},\"countries\":{\"FR\":{\"code\":\"FR\",\"name\":\"France\",\"i18n\":{\"label\":\"France\",\"context\":\"country\"},\"boundingBox\":[-5.225,41.333,9.55,51.2]},\"DE\":{\"code\":\"DE\",\"name\":\"Germany\",\"i18n\":{\"label\":\"Germany\",\"context\":\"country\"},\"boundingBox\":[5.867,45.967,15.033,55.133]},\"GB\":{\"code\":\"GB\",\"name\":\"Great Britain\",\"i18n\":{\"label\":\"Great Britain\",\"context\":\"country\"},\"boundingBox\":[-16.259765625000004,47.81315451752768,8.876953125000002,60.108670463036]},\"IE\":{\"code\":\"IE\",\"name\":\"Ireland\",\"i18n\":{\"label\":\"Ireland\",\"context\":\"country\"},\"boundingBox\":[-10.683,51.367,-4,55.433]},\"IT\":{\"code\":\"IT\",\"name\":\"Italy\",\"i18n\":{\"label\":\"Italy\",\"context\":\"country\"},\"boundingBox\":[-0.087890625,34.23451236236987,25.048828125000004,49.781264058178344]},\"BE\":{\"code\":\"BE\",\"name\":\"Belgium\",\"i18n\":{\"label\":\"Belgium\",\"context\":\"country\"},\"boundingBox\":[2.367,49.5,6.4,51.683]},\"AT\":{\"code\":\"AT\",\"name\":\"Austria\",\"i18n\":{\"label\":\"Austria\",\"context\":\"country\"},\"boundingBox\":[6.899414062500001,42.84375132629023,20.0830078125,51.754240074033525]},\"CH\":{\"code\":\"CH\",\"name\":\"Switzerland\",\"i18n\":{\"label\":\"Switzerland\",\"context\":\"country\"},\"boundingBox\":[5.097656250000001,45.058001435398296,11.381835937500002,48.66194284607008]},\"ES\":{\"code\":\"ES\",\"name\":\"Spain\",\"i18n\":{\"label\":\"Spain\",\"context\":\"country\"},\"boundingBox\":[-10.986328125000002,35.889050079360935,1.5820312500000002,43.96119063892027]},\"PT\":{\"code\":\"PT\",\"name\":\"Portugal\",\"i18n\":{\"label\":\"Portugal\",\"context\":\"country\"},\"boundingBox\":[-15.029296875000002,35.38904996691167,-2.4609375000000004,43.51668853502909]},\"AD\":{\"code\":\"AD\",\"name\":\"Andorra\",\"i18n\":{\"label\":\"Andorra\",\"context\":\"country\"},\"boundingBox\":[1.382,42.42,1.813,42.663]},\"NL\":{\"code\":\"NL\",\"name\":\"Netherlands\",\"i18n\":{\"label\":\"Netherlands\",\"context\":\"country\"},\"boundingBox\":[3.133,50.75,7.217,53.683]},\"PL\":{\"code\":\"PL\",\"name\":\"Poland\",\"i18n\":{\"label\":\"Poland\",\"context\":\"country\"},\"boundingBox\":[12.216796875000002,48.48748647988415,24.78515625,55.00282580979323]},\"RU\":{\"code\":\"RU\",\"name\":\"Russia\",\"i18n\":{\"label\":\"Russia\",\"context\":\"country\"},\"boundingBox\":[18.984375000000004,23.241346102386135,124.45312500000001,78.06198918665976]},\"GR\":{\"code\":\"GR\",\"name\":\"Greece\",\"i18n\":{\"label\":\"Greece\",\"context\":\"country\"},\"boundingBox\":[17.006835937500004,34.77771580360469,29.575195312500004,42.97250158602597]},\"FI\":{\"code\":\"FI\",\"name\":\"Finland\",\"i18n\":{\"label\":\"Finland\",\"context\":\"country\"},\"boundingBox\":[13.183593750000002,59.04055461675853,39.55078125,70.17020068549206]},\"BG\":{\"code\":\"BG\",\"name\":\"Bulgaria\",\"i18n\":{\"label\":\"Bulgaria\",\"context\":\"country\"},\"boundingBox\":[22.371,41,28.6,44.215]},\"JP\":{\"code\":\"JP\",\"name\":\"Japan\",\"i18n\":{\"label\":\"Japan\",\"context\":\"country\"},\"boundingBox\":[122.933,20.417,156.067,50.617]},\"SG\":{\"code\":\"SG\",\"name\":\"Singapore\",\"i18n\":{\"label\":\"Singapore\",\"context\":\"country\"},\"boundingBox\":[101.333,1.083,104.412,4]},\"IN\":{\"code\":\"IN\",\"name\":\"India\",\"i18n\":{\"label\":\"India\",\"context\":\"country\"},\"boundingBox\":[65,6,97.35,35.956]},\"MY\":{\"code\":\"MY\",\"name\":\"Malaysia\",\"i18n\":{\"label\":\"Malaysia\",\"context\":\"country\"},\"boundingBox\":[90.35156250000001,-12.211180191503997,116.71875000000001,13.923403897723347]},\"IL\":{\"code\":\"IL\",\"name\":\"Israel\",\"i18n\":{\"label\":\"Israel\",\"context\":\"country\"},\"boundingBox\":[34.282,29,35.667,33.286]},\"TR\":{\"code\":\"TR\",\"name\":\"Turkey\",\"i18n\":{\"label\":\"Turkey\",\"context\":\"country\"},\"boundingBox\":[25,35.819,44.85,42.1]},\"AU\":{\"code\":\"AU\",\"name\":\"Australia\",\"i18n\":{\"label\":\"Australia\",\"context\":\"country\"},\"boundingBox\":[105.46875000000001,-47.398349200359256,158.203125,-1.2303741774326018]},\"US\":{\"code\":\"US\",\"name\":\"United States\",\"i18n\":{\"label\":\"United States\",\"context\":\"country\"},\"boundingBox\":[-125.85937500000001,15.453680224345835,-73.12500000000001,56.26776108757582]},\"CA\":{\"code\":\"CA\",\"name\":\"Canada\",\"i18n\":{\"label\":\"Canada\",\"context\":\"country\"},\"boundingBox\":[-137.81250000000003,40.84706035607122,-85.078125,69.3493386397765]},\"BR\":{\"code\":\"BR\",\"name\":\"Brazil\",\"i18n\":{\"label\":\"Brazil\",\"context\":\"country\"},\"boundingBox\":[-73.817,-33.733,-28.85,16.8]},\"AR\":{\"code\":\"AR\",\"name\":\"Argentina\",\"i18n\":{\"label\":\"Argentina\",\"context\":\"country\"},\"boundingBox\":[-73.533,-58.583,-53.367,-21.783]},\"CL\":{\"code\":\"CL\",\"name\":\"Chile\",\"i18n\":{\"label\":\"Chile\",\"context\":\"country\"},\"boundingBox\":[-97.20703125000001,-51.83577752045248,-46.93359375000001,-18.312810846425442]},\"MX\":{\"code\":\"MX\",\"name\":\"Mexico\",\"i18n\":{\"label\":\"Mexico\",\"context\":\"country\"},\"boundingBox\":[-129.55078125000003,2.6357885741666065,-79.27734375000001,40.84706035607122]},\"CZ\":{\"code\":\"CZ\",\"name\":\"Czech Republic\",\"i18n\":{\"label\":\"Czech Republic\",\"context\":\"country\"},\"boundingBox\":[11.008300781250002,48.019324184801185,19.555664062500004,51.42661449707482]},\"EE\":{\"code\":\"EE\",\"name\":\"Estonia\",\"i18n\":{\"label\":\"Estonia\",\"context\":\"country\"},\"boundingBox\":[21.781,57.521,28.883,59.983]},\"HU\":{\"code\":\"HU\",\"name\":\"Hungary\",\"i18n\":{\"label\":\"Hungary\",\"context\":\"country\"},\"boundingBox\":[16.133,45.75,22.867,48.983]},\"RO\":{\"code\":\"RO\",\"name\":\"Romania\",\"i18n\":{\"label\":\"Romania\",\"context\":\"country\"},\"boundingBox\":[19,43.517,29.967,48.25]},\"DK\":{\"code\":\"DK\",\"name\":\"Denmark\",\"i18n\":{\"label\":\"Denmark\",\"context\":\"country\"},\"boundingBox\":[3.2958984375000004,53.199451902831555,15.864257812500002,59.06315402462662]},\"NO\":{\"code\":\"NO\",\"name\":\"Norway\",\"i18n\":{\"label\":\"Norway\",\"context\":\"country\"},\"boundingBox\":[-4.746093750000001,56.17002298293205,21.621093750000004,68.26938680456567]},\"SE\":{\"code\":\"SE\",\"name\":\"Sweden\",\"i18n\":{\"label\":\"Sweden\",\"context\":\"country\"},\"boundingBox\":[1.2304687500000002,56.1210604250441,27.597656250000004,68.23682270936281]},\"KR\":{\"code\":\"KR\",\"name\":\"South Korea\",\"i18n\":{\"label\":\"South Korea\",\"context\":\"country\"},\"boundingBox\":[124.612,29,131.867,38.6]},\"PH\":{\"code\":\"PH\",\"name\":\"Philippines\",\"i18n\":{\"label\":\"Philippines\",\"context\":\"country\"},\"boundingBox\":[111.09375000000001,-1.1425024037061522,136.23046875000003,19.559790136497412]},\"TH\":{\"code\":\"TH\",\"name\":\"Thailand\",\"i18n\":{\"label\":\"Thailand\",\"context\":\"country\"},\"boundingBox\":[88.06640625000001,-2.1967272417616583,114.43359375000001,23.483400654325642]},\"NZ\":{\"code\":\"NZ\",\"name\":\"New Zealand\",\"i18n\":{\"label\":\"New Zealand\",\"context\":\"country\"},\"boundingBox\":[154.59960937500003,-48.516604348867475,190.81054687500003,-32.62087018318113]}},\"languages\":{\"en\":{\"code\":\"en\",\"name\":\"English\",\"countries\":[\"GB\",\"IE\",\"SG\",\"IN\",\"MY\",\"AU\",\"US\",\"CA\",\"PH\",\"NZ\"]},\"cy\":{\"code\":\"cy\",\"name\":\"Welsh\",\"countries\":[\"GB\"],\"hasFlag\":true},\"gd\":{\"code\":\"gd\",\"name\":\"Scottish\",\"countries\":[\"GB\"],\"hasFlag\":true},\"de\":{\"code\":\"de\",\"name\":\"Deutsch\",\"countries\":[\"DE\",\"AT\",\"CH\"]},\"fr\":{\"code\":\"fr\",\"name\":\"Fran\\xc3\\xa7ais\",\"countries\":[\"FR\",\"BE\",\"CH\",\"AD\",\"CA\"]},\"co\":{\"code\":\"co\",\"name\":\"Corsu\",\"countries\":[\"FR\"],\"hasFlag\":true},\"br\":{\"code\":\"br\",\"name\":\"Brezhoneg\",\"countries\":[\"FR\"],\"hasFlag\":true},\"es\":{\"code\":\"es\",\"name\":\"Espa\\xc3\\xb1ol\",\"countries\":[\"ES\",\"AD\",\"AR\",\"CL\",\"MX\"]},\"ca\":{\"code\":\"ca\",\"name\":\"Catal\\xc3\\xa0\",\"countries\":[\"FR\",\"ES\",\"AD\"],\"hasFlag\":true},\"eu\":{\"code\":\"eu\",\"name\":\"Euskara\",\"countries\":[\"FR\",\"ES\"],\"hasFlag\":true,\"displayCountryCode\":true},\"it\":{\"code\":\"it\",\"name\":\"Italiano\",\"countries\":[\"IT\",\"CH\"]},\"pt\":{\"code\":\"pt\",\"name\":\"Portugu\\xc3\\xaas\",\"countries\":[\"PT\",\"AD\",\"BR\"]},\"nl\":{\"code\":\"nl\",\"name\":\"Nederlands\",\"countries\":[\"BE\",\"NL\"]},\"ru\":{\"code\":\"ru\",\"name\":\"\\xd0\\xa0\\xd1\\x83\\xd1\\x81\\xd1\\x81\\xd0\\xba\\xd0\\xb8\\xd0\\xb9\",\"countries\":[\"RU\"]},\"pl\":{\"code\":\"pl\",\"name\":\"Polski\",\"countries\":[\"PL\"]},\"el\":{\"code\":\"el\",\"name\":\"\\xce\\x95\\xce\\xbb\\xce\\xbb\\xce\\xb7\\xce\\xbd\\xce\\xb9\\xce\\xba\\xce\\xac\",\"countries\":[\"GR\"]},\"fi\":{\"code\":\"fi\",\"name\":\"Suomen kieli\",\"countries\":[\"FI\"]},\"bg\":{\"code\":\"bg\",\"name\":\"\\xd0\\xb1\\xd1\\x8a\\xd0\\xbb\\xd0\\xb3\\xd0\\xb0\\xd1\\x80\\xd1\\x81\\xd0\\xba\\xd0\\xb8 \\xd0\\xb5\\xd0\\xb7\\xd0\\xb8\\xd0\\xba\",\"countries\":[\"BG\"]},\"ja\":{\"code\":\"ja\",\"name\":\"\\xe6\\x97\\xa5\\xe6\\x9c\\xac\\xe8\\xaa\\x9e (\\xe3\\x81\\xab\\xe3\\x81\\xbb\\xe3\\x82\\x93\\xe3\\x81\\x94)\",\"countries\":[\"JP\"]},\"ms\":{\"code\":\"ms\",\"name\":\"\\xd8\\xa8\\xd9\\x87\\xd8\\xa7\\xd8\\xb3 \\xd9\\x85\\xd9\\x84\\xd8\\xa7\\xd9\\x8a\\xd9\\x88\",\"countries\":[\"MY\"]},\"he\":{\"code\":\"he\",\"name\":\"\\xd7\\xa2\\xd7\\x91\\xd7\\xa8\\xd7\\x99\\xd7\\xaa\",\"countries\":[\"IL\"]},\"tr\":{\"code\":\"tr\",\"name\":\"T\\xc3\\xbcrk\\xc3\\xa7e\",\"countries\":[\"TR\"]},\"cs\":{\"code\":\"cs\",\"name\":\"\\xc4\\x8cesky\",\"countries\":[\"CZ\"]},\"et\":{\"code\":\"et\",\"name\":\"Eesti keel\",\"countries\":[\"EE\"]},\"hu\":{\"code\":\"hu\",\"name\":\"magyar\",\"countries\":[\"HU\"]},\"ro\":{\"code\":\"ro\",\"name\":\"Rom\\xc3\\xa2n\\xc4\\x83\",\"countries\":[\"RO\"]},\"da\":{\"code\":\"da\",\"name\":\"Dansk\",\"countries\":[\"DK\"]},\"nb\":{\"code\":\"nb\",\"name\":\"Norsk\",\"countries\":[\"NO\"]},\"sv\":{\"code\":\"sv\",\"name\":\"Svenska\",\"countries\":[\"SE\"]},\"ko\":{\"code\":\"ko\",\"name\":\"\\xed\\x95\\x9c\\xea\\xb5\\xad\\xec\\x96\\xb4\",\"countries\":[\"KR\"]},\"th\":{\"code\":\"th\",\"name\":\"\\xe0\\xb9\\x84\\xe0\\xb8\\x97\\xe0\\xb8\\xa2\",\"countries\":[\"TH\"]}}} );\\n            config_set(\\'faq.settings\\',                          {} );\\n            config_set(\\'snippet.firefox.enabled\\',               true );\\n            config_set(\\'special.trend.enabled\\',                 false );\\n            config_set(\\'maps.ia.enabled\\',                       true );\\n            config_set(\\'qwick.enabled\\',                         true );\\n            config_set(\\'homepage.service.description\\',          false );\\n            config_set(\\'extension.popin.enabled\\',               true );\\n            config_set(\\'qwant.app.mobile.popup.enabled\\',        false );\\n            config_set(\\'extra.qwant.enabled\\',                   false );\\n            config_set(\\'apiUrl\\',                                \"//api.qwant.com/api/\" );\\n            config_set(\\'apiV2Url\\',                                \"//api.qwant.com/v2/api/\" );\\n            config_set(\\'mapProxyUrl\\',                           \"//m.qwant.com/api/\" );\\n            config_set(\\'downloads.fqdn\\',                        \"//downloads.qwant.com\" );\\n            config_set(\\'isDevelopmentMode\\',                     false );\\n            config_set(\\'register.title.edu\\',                    false );\\n            config_set(\\'privacy.ads.enabled\\',                   false );\\n            config_set(\\'video-button\\',                          false );\\n        };\\n        var appTitle = \\'Qwant\\';\\n        var userClient = \\'\\';\\n        var detectedTerritory = \\'en_US\\';\\n        var serverTime = 1604486282643;\\n        var soonToBeDeprecatedBrowser = false;\\n        var uxVersions = [\"v4\",\"verticals_round\",\"verticals_redirect\",\"blue_links\"];\\n        var testGroupPer = 20;\\n        var isMobile = false;\\n        var isTablet = false;\\n        var noPopin = false;\\n    </script>\\n\\n    <script src=\"js/templates.js?1604396809809\"></script>\\n    <script src=\"js/app.js?1604396809809\"></script>\\n    <script>\\n        var httpAcceptLanguage = \"en\";\\n        configOverloadProxy();\\n        configurationGenerate();\\n    </script>\\n    <script src=\"js/bootstrap.js?1604396809809\"></script>\\n    <script>\\n        (function (document, navigator, CACHE, IE9TO11) {\\n            if (IE9TO11) actionManager.onCustomEvent(this, \\'rendered\\', function () {\\n                [].forEach.call(document.querySelectorAll(\\'use\\'), function (use) {\\n                    var\\n                        svg = use.parentNode,\\n                        url = use.getAttribute(\\'xlink:href\\').split(\\'#\\'),\\n                        url_root = url[0],\\n                        url_hash = url[1],\\n                        xhr = CACHE[url_root] = CACHE[url_root] || new XMLHttpRequest();\\n                    if (!use.getAttribute(\\'noxhr\\') && url_root) {\\n                        if (!xhr.s) {\\n                            xhr.s = [];\\n                            xhr.open(\\'GET\\', url_root);\\n                            xhr.onload = function () {\\n                                var x = document.createElement(\\'x\\'), s = xhr.s;\\n                                x.innerHTML = xhr.responseText;\\n                                xhr.onload = function () {\\n                                    s.splice(0).map(function (array) {\\n                                        var g = x.querySelector(\\'#\\' + array[2]);\\n                                        if (g) array[0].replaceChild(g.cloneNode(true), array[1]);\\n                                    });\\n                                };\\n                                xhr.onload();\\n                            };\\n                            xhr.send();\\n                        }\\n                        xhr.s.push([svg, use, url_hash]);\\n                        if (xhr.responseText) xhr.onload();\\n                    }\\n                });\\n            });\\n        })(\\n            document,\\n            navigator,\\n            {},\\n            /Trident\\\\/[567]\\\\b/.test(navigator.userAgent)\\n        );\\n    </script>\\n</body>\\n</html>\\n<!-- This comment is expected by the docker HEALTHCHECK  -->\\n<!-- see: CI-177 -->'\n"
          ],
          "name": "stdout"
        },
        {
          "output_type": "stream",
          "text": [
            "/usr/local/lib/python3.6/dist-packages/urllib3/connectionpool.py:847: InsecureRequestWarning: Unverified HTTPS request is being made. Adding certificate verification is strongly advised. See: https://urllib3.readthedocs.io/en/latest/advanced-usage.html#ssl-warnings\n",
            "  InsecureRequestWarning)\n"
          ],
          "name": "stderr"
        }
      ]
    },
    {
      "cell_type": "code",
      "metadata": {
        "id": "w9PIo9an14YD",
        "outputId": "40251f49-2233-47bb-f661-00f69aa3aba0",
        "colab": {
          "base_uri": "https://localhost:8080/"
        }
      },
      "source": [
        "import requests\n",
        "response = requests.get(URL)\n",
        "print (response.status_code)\n",
        "print (response.content)"
      ],
      "execution_count": null,
      "outputs": [
        {
          "output_type": "stream",
          "text": [
            "200\n",
            "b'<!doctype html>\\n<html lang=\"en\">\\n<head>\\n    <base href=\"https://www.qwant.com\">\\n    <meta charset=\"utf-8\">\\n    <meta http-equiv=\"X-UA-Compatible\" content=\"IE=edge\">\\n    <title>Qwant</title>\\n    <meta name=\"theme-color\" content=\"#FFFFFF\">\\n    <meta name=\"twitter:card\" content=\"summary_large_image\">\\n    <meta name=\"twitter:site\" content=\"@QwantCom\">\\n    <meta name=\"twitter:creator\" content=\"@QwantCom\">\\n    <meta name=\"twitter:title\" content=\"Qwant \\xe2\\x80\\x93 The search engine that respects your privacy.\">\\n    <meta name=\"twitter:description\" content=\"Qwant is a search engine that respects your privacy and eases discovering and sharing via a social approach.\">\\n    <meta name=\"twitter:image:src\" content=\"/QWANT_Meta.png?1539938515\">\\n    <meta name=\"twitter:domain\" content=\"https://www.qwant.com\">\\n    <meta property=\"og:title\" content=\"Qwant\" id=\"meta_og_title\"/>\\n    <meta property=\"og:site_name\" content=\"Qwant\"/>\\n    <meta property=\"og:image\" content=\"https://www.qwant.com/QWANT_Meta.png?1539938515\" />\\n    <meta property=\"og:image:width\" content=\"1000\" />\\n    <meta property=\"og:image:height\" content=\"536\" />\\n    <meta property=\"og:type\" content=\"website\"/>\\n    <meta property=\"og:url\" content=\"https://www.qwant.com/\" id=\"meta_og_url\"/>\\n    <meta name=\"description\"\\n          content=\"Qwant is a search engine that respects your privacy and eases discovering and sharing via a social approach.\"\\n          id=\"meta_description\"/>\\n    <meta property=\"og:description\"\\n          content=\"Qwant is a search engine that respects your privacy and eases discovering and sharing via a social approach.\"\\n          id=\"meta_og_description\"/>\\n    <meta name=\"keywords\" content=\"qwant search engine privacy\" id=\"meta_keywords\">\\n    <meta name=\"application-name\" content=\"Qwant\"/>\\n    <meta name=\"twitter:widgets:csp\" content=\"on\"/>\\n    <meta name=\"viewport\" content=\"width=device-width, initial-scale=1.0, user-scalable=no\">\\n    <link rel=\"stylesheet\" href=\"css/style.css?1604396809809\">\\n    <meta name=\"robots\" content=\"index\">\\n    <link rel=\"shortcut icon\" href=\"/favicon.ico?1539938515\" type=\"image/x-icon\">\\n    <link rel=\"icon\" href=\"/favicon.png?1539938515\" type=\"image/png\">\\n    <link rel=\"icon\" sizes=\"32x32\" href=\"/favicon-32.png?1539938515\" type=\"image/png\">\\n    <link rel=\"icon\" sizes=\"64x64\" href=\"/favicon-64.png?1539938515\" type=\"image/png\">\\n    <link rel=\"icon\" sizes=\"96x96\" href=\"/favicon-96.png?1539938515\" type=\"image/png\">\\n    <link rel=\"icon\" sizes=\"144x144\" href=\"/favicon-144.png?1539938515\" type=\"image/png\">\\n    <link rel=\"icon\" sizes=\"152x152\" href=\"/favicon-152.png?1539938515\" type=\"image/png\">\\n    <link rel=\"icon\" sizes=\"196x196\" href=\"/favicon-196.png?1539938515\" type=\"image/png\">\\n    <link rel=\"apple-touch-icon\" sizes=\"152x152\" href=\"/apple-touch-icon.png?1539938515\">\\n    <link rel=\"apple-touch-icon\" sizes=\"60x60\" href=\"/apple-touch-icon-60x60.png?1539938515\">\\n    <link rel=\"apple-touch-icon\" sizes=\"76x76\" href=\"/apple-touch-icon-76x76.png?1539938515\">\\n    <link rel=\"apple-touch-icon\" sizes=\"114x114\" href=\"/apple-touch-icon-114x114.png?1539938515\">\\n    <link rel=\"apple-touch-icon\" sizes=\"120x120\" href=\"/apple-touch-icon-120x120.png?1539938515\">\\n    <link rel=\"apple-touch-icon\" sizes=\"144x144\" href=\"/apple-touch-icon-144x144.png?1539938515\">\\n    <link rel=\"apple-touch-icon-precomposed\" href=\"/favicon-152.png?1539938515\">\\n    <meta name=\"msapplication-TileImage\" content=\"/favicon-144.png?1539938515\">\\n    <meta name=\"msapplication-TileColor\" content=\"#FFFFFF\">\\n    <meta name=\"msapplication-config\" content=\"browserconfig.xml\">\\n    <meta name=\"referrer\" content=\"origin\">\\n    <link rel=\"canonical\" href=\"https://www.qwant.com/\"/>\\n    <link rel=\"search\" type=\"application/opensearchdescription+xml\" title=\"Qwant\"\\n          href=\"https://www.qwant.com/opensearch.xml\"/>\\n    <link rel=\"chrome-webstore-item\" href=\"https://chrome.google.com/webstore/detail/hnlkiofnhhoahaiimdicppgemmmomijo\">\\n            <link rel=\"alternate\" hreflang=\"fr\" href=\"https://www.qwant.com/?l=fr&q=bus&t=images\"/>\\n            <link rel=\"alternate\" hreflang=\"en\" href=\"https://www.qwant.com/?l=en&q=bus&t=images\"/>\\n            <link rel=\"alternate\" hreflang=\"de\" href=\"https://www.qwant.com/?l=de&q=bus&t=images\"/>\\n            <link rel=\"alternate\" hreflang=\"it\" href=\"https://www.qwant.com/?l=it&q=bus&t=images\"/>\\n            <link rel=\"alternate\" hreflang=\"br\" href=\"https://www.qwant.com/?l=br&q=bus&t=images\"/>\\n            <link rel=\"alternate\" hreflang=\"ca\" href=\"https://www.qwant.com/?l=ca&q=bus&t=images\"/>\\n            <link rel=\"alternate\" hreflang=\"co\" href=\"https://www.qwant.com/?l=co&q=bus&t=images\"/>\\n            <link rel=\"alternate\" hreflang=\"es\" href=\"https://www.qwant.com/?l=es&q=bus&t=images\"/>\\n            <link rel=\"alternate\" hreflang=\"eu\" href=\"https://www.qwant.com/?l=eu&q=bus&t=images\"/>\\n            <link rel=\"alternate\" hreflang=\"nl\" href=\"https://www.qwant.com/?l=nl&q=bus&t=images\"/>\\n            <link rel=\"alternate\" hreflang=\"pl\" href=\"https://www.qwant.com/?l=pl&q=bus&t=images\"/>\\n            <link rel=\"alternate\" hreflang=\"pt\" href=\"https://www.qwant.com/?l=pt&q=bus&t=images\"/>\\n            <link rel=\"alternate\" hreflang=\"ru\" href=\"https://www.qwant.com/?l=ru&q=bus&t=images\"/>\\n        <link rel=\"alternate\" href=\"https://www.qwant.com/\" hreflang=\"x-default\"/>\\n            <link rel=\"manifest\" href=\"/manifest.json\">\\n    </head>\\n<body id=\"top\" class=\" desktop v4 verticals_round verticals_redirect blue_links\">\\n\\n    <noscript>\\n                    <meta http-equiv=\"refresh\" content=\"0;url=//lite.qwant.com/?q=bus&t=images\">\\n            </noscript>\\n\\n    <div id=\"app\" role=\"main\"></div>\\n\\n    <div id=\"extension--enabled\" class=\"result--ext extension--enabled sponsored_content\"></div>\\n    <div id=\"resultsShoppingList\" class=\"shopping--enabled\"></div>\\n\\n    <script>\\n        window.configuration = {};\\n        window.constants = {};\\n        window.configOverloadProxy = function () {\\n            config_set(\\'appTitle\\',                              \"Qwant\" );\\n            config_set(\\'musicUrl\\',                              \"//www.qwant.com/music/\" );\\n            config_set(\\'mapsUrl\\',                               \"//www.qwant.com/maps/\" );\\n            config_set(\\'searchUrl\\',                             \"//www.qwant.com/\" );\\n            config_set(\\'wwwUrl\\',                                \"//www.qwant.com/\" );\\n            config_set(\\'liteUrl\\',                               \"//lite.qwant.com\" );\\n            config_set(\\'blogUrl\\',                               \"//blog.qwant.com/\" );\\n            config_set(\\'juniorUrl\\',                             \"//www.qwantjunior.com/\" );\\n            config_set(\\'qwantUrl\\',                              \"https\" + \"://www.qwant.com\" );\\n            config_set(\\'reportQwantUrl\\',                        \"https\" + \"://report.qwant.com\" );\\n            config_set(\\'geoloc.enabled\\',                        true );\\n            config_set(\\'lite.bridge\\',                           true );\\n            config_set(\\'application.junior.enabled\\',            true );\\n            config_set(\\'trends.enabled\\',                        true );\\n            config_set(\\'bookmarks.enabled\\',                     true );\\n            config_set(\\'report.enabled\\',                        false );\\n            config_set(\\'logo.url\\',                              \"/img/logo/logo-310.png\" );\\n            config_set(\\'report.from-users.enabled\\',             true );\\n            config_set(\\'feedback.enabled\\',                      true );\\n            config_set(\\'ads.enabled\\',                           true );\\n            config_set(\\'restricted.categories\\',                 false );\\n            config_set(\\'account.email.message.enabled\\',         false );\\n            config_set(\\'account.start-page.enabled\\',            false );\\n            config_set(\\'snippet.add-qwant.enabled\\',             false );\\n            config_set(\\'features.l10n.lang.detect.enabled\\',     true );\\n            config_set(\\'features.l10n.lang.default\\',            \"en_gb\" );\\n            config_set(\\'features.l10n.region.default\\',          \"GB\" );\\n            config_set(\\'features.l10n.continent.default\\',       \\'WESTERNEUROPE\\' );\\n            config_set(\\'features.l10n.lang.switch.enabled\\',     true );\\n            config_set(\\'features.l10n.region.switch.enabled\\',   true );\\n            config_set(\\'project.interface.languages\\',           {\"fr_fr\":{\"name\":\"Fran\\xc3\\xa7ais\",\"shorthand\":\"fr\",\"code\":\"fr_fr\"},\"en_gb\":{\"name\":\"English\",\"shorthand\":\"en\",\"code\":\"en_gb\"},\"de_de\":{\"name\":\"Deutsch\",\"shorthand\":\"de\",\"code\":\"de_de\"},\"it_it\":{\"name\":\"Italiano\",\"shorthand\":\"it\",\"code\":\"it_it\"},\"br_fr\":{\"name\":\"Brezhoneg\",\"shorthand\":\"br\",\"code\":\"br_fr\"},\"ca_es\":{\"name\":\"Catal\\xc3\\xa0\",\"shorthand\":\"ca\",\"code\":\"ca_es\"},\"co_fr\":{\"name\":\"Corsu\",\"shorthand\":\"co\",\"code\":\"co_fr\"},\"es_es\":{\"name\":\"Espa\\xc3\\xb1ol\",\"shorthand\":\"es\",\"code\":\"es_es\"},\"eu_es\":{\"name\":\"Euskara\",\"shorthand\":\"eu\",\"code\":\"eu_es\"},\"nl_nl\":{\"name\":\"Nederlands\",\"shorthand\":\"nl\",\"code\":\"nl_nl\"},\"pl_pl\":{\"name\":\"Polski\",\"shorthand\":\"pl\",\"code\":\"pl_pl\"},\"pt_pt\":{\"name\":\"Portugu\\xc3\\xaas\",\"shorthand\":\"pt\",\"code\":\"pt_pt\"},\"ru_ru\":{\"name\":\"\\xd0\\xa0\\xd1\\x83\\xd1\\x81\\xd1\\x81\\xd0\\xba\\xd0\\xb8\\xd0\\xb9\",\"shorthand\":\"ru\",\"code\":\"ru_ru\"}} );\\n            config_set(\\'project.regionalisation\\',               {\"continents\":{\"WESTERNEUROPE\":{\"code\":\"WESTERNEUROPE\",\"name\":\"Western Europe\",\"countries\":[\"FR\",\"DE\",\"GB\",\"IE\",\"IT\",\"BE\",\"AT\",\"CH\",\"ES\",\"PT\",\"AD\",\"NL\",\"GR\",\"FI\",\"DK\",\"NO\",\"SE\"],\"i18n\":{\"label\":\"Western Europe\",\"context\":\"continent\"}},\"EASTERNEUROPE\":{\"code\":\"EASTERNEUROPE\",\"name\":\"Eastern Europe\",\"countries\":[\"PL\",\"RU\",\"BG\",\"CZ\",\"EE\",\"HU\",\"RO\"],\"i18n\":{\"label\":\"Eastern Europe\",\"context\":\"continent\"}},\"AMERICAS\":{\"code\":\"AMERICAS\",\"name\":\"Americas\",\"countries\":[\"US\",\"CA\",\"BR\",\"AR\",\"CL\",\"MX\"],\"i18n\":{\"label\":\"Americas\",\"context\":\"continent\"}},\"ASIA\":{\"code\":\"ASIA\",\"name\":\"Asia\",\"countries\":[\"RU\",\"JP\",\"SG\",\"IN\",\"MY\",\"KR\",\"PH\",\"TH\"],\"i18n\":{\"label\":\"Asia\",\"context\":\"continent\"}},\"MIDDLEEAST\":{\"code\":\"MIDDLEEAST\",\"name\":\"Middle East\",\"countries\":[\"IL\",\"TR\"],\"i18n\":{\"label\":\"Middle East\",\"context\":\"continent\"}},\"OCEANIA\":{\"code\":\"OCEANIA\",\"name\":\"Oceania\",\"countries\":[\"AU\",\"NZ\"],\"i18n\":{\"label\":\"Oceania\",\"context\":\"continent\"}}},\"countries\":{\"FR\":{\"code\":\"FR\",\"name\":\"France\",\"i18n\":{\"label\":\"France\",\"context\":\"country\"},\"boundingBox\":[-5.225,41.333,9.55,51.2]},\"DE\":{\"code\":\"DE\",\"name\":\"Germany\",\"i18n\":{\"label\":\"Germany\",\"context\":\"country\"},\"boundingBox\":[5.867,45.967,15.033,55.133]},\"GB\":{\"code\":\"GB\",\"name\":\"Great Britain\",\"i18n\":{\"label\":\"Great Britain\",\"context\":\"country\"},\"boundingBox\":[-16.259765625000004,47.81315451752768,8.876953125000002,60.108670463036]},\"IE\":{\"code\":\"IE\",\"name\":\"Ireland\",\"i18n\":{\"label\":\"Ireland\",\"context\":\"country\"},\"boundingBox\":[-10.683,51.367,-4,55.433]},\"IT\":{\"code\":\"IT\",\"name\":\"Italy\",\"i18n\":{\"label\":\"Italy\",\"context\":\"country\"},\"boundingBox\":[-0.087890625,34.23451236236987,25.048828125000004,49.781264058178344]},\"BE\":{\"code\":\"BE\",\"name\":\"Belgium\",\"i18n\":{\"label\":\"Belgium\",\"context\":\"country\"},\"boundingBox\":[2.367,49.5,6.4,51.683]},\"AT\":{\"code\":\"AT\",\"name\":\"Austria\",\"i18n\":{\"label\":\"Austria\",\"context\":\"country\"},\"boundingBox\":[6.899414062500001,42.84375132629023,20.0830078125,51.754240074033525]},\"CH\":{\"code\":\"CH\",\"name\":\"Switzerland\",\"i18n\":{\"label\":\"Switzerland\",\"context\":\"country\"},\"boundingBox\":[5.097656250000001,45.058001435398296,11.381835937500002,48.66194284607008]},\"ES\":{\"code\":\"ES\",\"name\":\"Spain\",\"i18n\":{\"label\":\"Spain\",\"context\":\"country\"},\"boundingBox\":[-10.986328125000002,35.889050079360935,1.5820312500000002,43.96119063892027]},\"PT\":{\"code\":\"PT\",\"name\":\"Portugal\",\"i18n\":{\"label\":\"Portugal\",\"context\":\"country\"},\"boundingBox\":[-15.029296875000002,35.38904996691167,-2.4609375000000004,43.51668853502909]},\"AD\":{\"code\":\"AD\",\"name\":\"Andorra\",\"i18n\":{\"label\":\"Andorra\",\"context\":\"country\"},\"boundingBox\":[1.382,42.42,1.813,42.663]},\"NL\":{\"code\":\"NL\",\"name\":\"Netherlands\",\"i18n\":{\"label\":\"Netherlands\",\"context\":\"country\"},\"boundingBox\":[3.133,50.75,7.217,53.683]},\"PL\":{\"code\":\"PL\",\"name\":\"Poland\",\"i18n\":{\"label\":\"Poland\",\"context\":\"country\"},\"boundingBox\":[12.216796875000002,48.48748647988415,24.78515625,55.00282580979323]},\"RU\":{\"code\":\"RU\",\"name\":\"Russia\",\"i18n\":{\"label\":\"Russia\",\"context\":\"country\"},\"boundingBox\":[18.984375000000004,23.241346102386135,124.45312500000001,78.06198918665976]},\"GR\":{\"code\":\"GR\",\"name\":\"Greece\",\"i18n\":{\"label\":\"Greece\",\"context\":\"country\"},\"boundingBox\":[17.006835937500004,34.77771580360469,29.575195312500004,42.97250158602597]},\"FI\":{\"code\":\"FI\",\"name\":\"Finland\",\"i18n\":{\"label\":\"Finland\",\"context\":\"country\"},\"boundingBox\":[13.183593750000002,59.04055461675853,39.55078125,70.17020068549206]},\"BG\":{\"code\":\"BG\",\"name\":\"Bulgaria\",\"i18n\":{\"label\":\"Bulgaria\",\"context\":\"country\"},\"boundingBox\":[22.371,41,28.6,44.215]},\"JP\":{\"code\":\"JP\",\"name\":\"Japan\",\"i18n\":{\"label\":\"Japan\",\"context\":\"country\"},\"boundingBox\":[122.933,20.417,156.067,50.617]},\"SG\":{\"code\":\"SG\",\"name\":\"Singapore\",\"i18n\":{\"label\":\"Singapore\",\"context\":\"country\"},\"boundingBox\":[101.333,1.083,104.412,4]},\"IN\":{\"code\":\"IN\",\"name\":\"India\",\"i18n\":{\"label\":\"India\",\"context\":\"country\"},\"boundingBox\":[65,6,97.35,35.956]},\"MY\":{\"code\":\"MY\",\"name\":\"Malaysia\",\"i18n\":{\"label\":\"Malaysia\",\"context\":\"country\"},\"boundingBox\":[90.35156250000001,-12.211180191503997,116.71875000000001,13.923403897723347]},\"IL\":{\"code\":\"IL\",\"name\":\"Israel\",\"i18n\":{\"label\":\"Israel\",\"context\":\"country\"},\"boundingBox\":[34.282,29,35.667,33.286]},\"TR\":{\"code\":\"TR\",\"name\":\"Turkey\",\"i18n\":{\"label\":\"Turkey\",\"context\":\"country\"},\"boundingBox\":[25,35.819,44.85,42.1]},\"AU\":{\"code\":\"AU\",\"name\":\"Australia\",\"i18n\":{\"label\":\"Australia\",\"context\":\"country\"},\"boundingBox\":[105.46875000000001,-47.398349200359256,158.203125,-1.2303741774326018]},\"US\":{\"code\":\"US\",\"name\":\"United States\",\"i18n\":{\"label\":\"United States\",\"context\":\"country\"},\"boundingBox\":[-125.85937500000001,15.453680224345835,-73.12500000000001,56.26776108757582]},\"CA\":{\"code\":\"CA\",\"name\":\"Canada\",\"i18n\":{\"label\":\"Canada\",\"context\":\"country\"},\"boundingBox\":[-137.81250000000003,40.84706035607122,-85.078125,69.3493386397765]},\"BR\":{\"code\":\"BR\",\"name\":\"Brazil\",\"i18n\":{\"label\":\"Brazil\",\"context\":\"country\"},\"boundingBox\":[-73.817,-33.733,-28.85,16.8]},\"AR\":{\"code\":\"AR\",\"name\":\"Argentina\",\"i18n\":{\"label\":\"Argentina\",\"context\":\"country\"},\"boundingBox\":[-73.533,-58.583,-53.367,-21.783]},\"CL\":{\"code\":\"CL\",\"name\":\"Chile\",\"i18n\":{\"label\":\"Chile\",\"context\":\"country\"},\"boundingBox\":[-97.20703125000001,-51.83577752045248,-46.93359375000001,-18.312810846425442]},\"MX\":{\"code\":\"MX\",\"name\":\"Mexico\",\"i18n\":{\"label\":\"Mexico\",\"context\":\"country\"},\"boundingBox\":[-129.55078125000003,2.6357885741666065,-79.27734375000001,40.84706035607122]},\"CZ\":{\"code\":\"CZ\",\"name\":\"Czech Republic\",\"i18n\":{\"label\":\"Czech Republic\",\"context\":\"country\"},\"boundingBox\":[11.008300781250002,48.019324184801185,19.555664062500004,51.42661449707482]},\"EE\":{\"code\":\"EE\",\"name\":\"Estonia\",\"i18n\":{\"label\":\"Estonia\",\"context\":\"country\"},\"boundingBox\":[21.781,57.521,28.883,59.983]},\"HU\":{\"code\":\"HU\",\"name\":\"Hungary\",\"i18n\":{\"label\":\"Hungary\",\"context\":\"country\"},\"boundingBox\":[16.133,45.75,22.867,48.983]},\"RO\":{\"code\":\"RO\",\"name\":\"Romania\",\"i18n\":{\"label\":\"Romania\",\"context\":\"country\"},\"boundingBox\":[19,43.517,29.967,48.25]},\"DK\":{\"code\":\"DK\",\"name\":\"Denmark\",\"i18n\":{\"label\":\"Denmark\",\"context\":\"country\"},\"boundingBox\":[3.2958984375000004,53.199451902831555,15.864257812500002,59.06315402462662]},\"NO\":{\"code\":\"NO\",\"name\":\"Norway\",\"i18n\":{\"label\":\"Norway\",\"context\":\"country\"},\"boundingBox\":[-4.746093750000001,56.17002298293205,21.621093750000004,68.26938680456567]},\"SE\":{\"code\":\"SE\",\"name\":\"Sweden\",\"i18n\":{\"label\":\"Sweden\",\"context\":\"country\"},\"boundingBox\":[1.2304687500000002,56.1210604250441,27.597656250000004,68.23682270936281]},\"KR\":{\"code\":\"KR\",\"name\":\"South Korea\",\"i18n\":{\"label\":\"South Korea\",\"context\":\"country\"},\"boundingBox\":[124.612,29,131.867,38.6]},\"PH\":{\"code\":\"PH\",\"name\":\"Philippines\",\"i18n\":{\"label\":\"Philippines\",\"context\":\"country\"},\"boundingBox\":[111.09375000000001,-1.1425024037061522,136.23046875000003,19.559790136497412]},\"TH\":{\"code\":\"TH\",\"name\":\"Thailand\",\"i18n\":{\"label\":\"Thailand\",\"context\":\"country\"},\"boundingBox\":[88.06640625000001,-2.1967272417616583,114.43359375000001,23.483400654325642]},\"NZ\":{\"code\":\"NZ\",\"name\":\"New Zealand\",\"i18n\":{\"label\":\"New Zealand\",\"context\":\"country\"},\"boundingBox\":[154.59960937500003,-48.516604348867475,190.81054687500003,-32.62087018318113]}},\"languages\":{\"en\":{\"code\":\"en\",\"name\":\"English\",\"countries\":[\"GB\",\"IE\",\"SG\",\"IN\",\"MY\",\"AU\",\"US\",\"CA\",\"PH\",\"NZ\"]},\"cy\":{\"code\":\"cy\",\"name\":\"Welsh\",\"countries\":[\"GB\"],\"hasFlag\":true},\"gd\":{\"code\":\"gd\",\"name\":\"Scottish\",\"countries\":[\"GB\"],\"hasFlag\":true},\"de\":{\"code\":\"de\",\"name\":\"Deutsch\",\"countries\":[\"DE\",\"AT\",\"CH\"]},\"fr\":{\"code\":\"fr\",\"name\":\"Fran\\xc3\\xa7ais\",\"countries\":[\"FR\",\"BE\",\"CH\",\"AD\",\"CA\"]},\"co\":{\"code\":\"co\",\"name\":\"Corsu\",\"countries\":[\"FR\"],\"hasFlag\":true},\"br\":{\"code\":\"br\",\"name\":\"Brezhoneg\",\"countries\":[\"FR\"],\"hasFlag\":true},\"es\":{\"code\":\"es\",\"name\":\"Espa\\xc3\\xb1ol\",\"countries\":[\"ES\",\"AD\",\"AR\",\"CL\",\"MX\"]},\"ca\":{\"code\":\"ca\",\"name\":\"Catal\\xc3\\xa0\",\"countries\":[\"FR\",\"ES\",\"AD\"],\"hasFlag\":true},\"eu\":{\"code\":\"eu\",\"name\":\"Euskara\",\"countries\":[\"FR\",\"ES\"],\"hasFlag\":true,\"displayCountryCode\":true},\"it\":{\"code\":\"it\",\"name\":\"Italiano\",\"countries\":[\"IT\",\"CH\"]},\"pt\":{\"code\":\"pt\",\"name\":\"Portugu\\xc3\\xaas\",\"countries\":[\"PT\",\"AD\",\"BR\"]},\"nl\":{\"code\":\"nl\",\"name\":\"Nederlands\",\"countries\":[\"BE\",\"NL\"]},\"ru\":{\"code\":\"ru\",\"name\":\"\\xd0\\xa0\\xd1\\x83\\xd1\\x81\\xd1\\x81\\xd0\\xba\\xd0\\xb8\\xd0\\xb9\",\"countries\":[\"RU\"]},\"pl\":{\"code\":\"pl\",\"name\":\"Polski\",\"countries\":[\"PL\"]},\"el\":{\"code\":\"el\",\"name\":\"\\xce\\x95\\xce\\xbb\\xce\\xbb\\xce\\xb7\\xce\\xbd\\xce\\xb9\\xce\\xba\\xce\\xac\",\"countries\":[\"GR\"]},\"fi\":{\"code\":\"fi\",\"name\":\"Suomen kieli\",\"countries\":[\"FI\"]},\"bg\":{\"code\":\"bg\",\"name\":\"\\xd0\\xb1\\xd1\\x8a\\xd0\\xbb\\xd0\\xb3\\xd0\\xb0\\xd1\\x80\\xd1\\x81\\xd0\\xba\\xd0\\xb8 \\xd0\\xb5\\xd0\\xb7\\xd0\\xb8\\xd0\\xba\",\"countries\":[\"BG\"]},\"ja\":{\"code\":\"ja\",\"name\":\"\\xe6\\x97\\xa5\\xe6\\x9c\\xac\\xe8\\xaa\\x9e (\\xe3\\x81\\xab\\xe3\\x81\\xbb\\xe3\\x82\\x93\\xe3\\x81\\x94)\",\"countries\":[\"JP\"]},\"ms\":{\"code\":\"ms\",\"name\":\"\\xd8\\xa8\\xd9\\x87\\xd8\\xa7\\xd8\\xb3 \\xd9\\x85\\xd9\\x84\\xd8\\xa7\\xd9\\x8a\\xd9\\x88\",\"countries\":[\"MY\"]},\"he\":{\"code\":\"he\",\"name\":\"\\xd7\\xa2\\xd7\\x91\\xd7\\xa8\\xd7\\x99\\xd7\\xaa\",\"countries\":[\"IL\"]},\"tr\":{\"code\":\"tr\",\"name\":\"T\\xc3\\xbcrk\\xc3\\xa7e\",\"countries\":[\"TR\"]},\"cs\":{\"code\":\"cs\",\"name\":\"\\xc4\\x8cesky\",\"countries\":[\"CZ\"]},\"et\":{\"code\":\"et\",\"name\":\"Eesti keel\",\"countries\":[\"EE\"]},\"hu\":{\"code\":\"hu\",\"name\":\"magyar\",\"countries\":[\"HU\"]},\"ro\":{\"code\":\"ro\",\"name\":\"Rom\\xc3\\xa2n\\xc4\\x83\",\"countries\":[\"RO\"]},\"da\":{\"code\":\"da\",\"name\":\"Dansk\",\"countries\":[\"DK\"]},\"nb\":{\"code\":\"nb\",\"name\":\"Norsk\",\"countries\":[\"NO\"]},\"sv\":{\"code\":\"sv\",\"name\":\"Svenska\",\"countries\":[\"SE\"]},\"ko\":{\"code\":\"ko\",\"name\":\"\\xed\\x95\\x9c\\xea\\xb5\\xad\\xec\\x96\\xb4\",\"countries\":[\"KR\"]},\"th\":{\"code\":\"th\",\"name\":\"\\xe0\\xb9\\x84\\xe0\\xb8\\x97\\xe0\\xb8\\xa2\",\"countries\":[\"TH\"]}}} );\\n            config_set(\\'faq.settings\\',                          {} );\\n            config_set(\\'snippet.firefox.enabled\\',               true );\\n            config_set(\\'special.trend.enabled\\',                 false );\\n            config_set(\\'maps.ia.enabled\\',                       true );\\n            config_set(\\'qwick.enabled\\',                         true );\\n            config_set(\\'homepage.service.description\\',          false );\\n            config_set(\\'extension.popin.enabled\\',               true );\\n            config_set(\\'qwant.app.mobile.popup.enabled\\',        false );\\n            config_set(\\'extra.qwant.enabled\\',                   false );\\n            config_set(\\'apiUrl\\',                                \"//api.qwant.com/api/\" );\\n            config_set(\\'apiV2Url\\',                                \"//api.qwant.com/v2/api/\" );\\n            config_set(\\'mapProxyUrl\\',                           \"//m.qwant.com/api/\" );\\n            config_set(\\'downloads.fqdn\\',                        \"//downloads.qwant.com\" );\\n            config_set(\\'isDevelopmentMode\\',                     false );\\n            config_set(\\'register.title.edu\\',                    false );\\n            config_set(\\'privacy.ads.enabled\\',                   false );\\n            config_set(\\'video-button\\',                          false );\\n        };\\n        var appTitle = \\'Qwant\\';\\n        var userClient = \\'\\';\\n        var detectedTerritory = \\'en_US\\';\\n        var serverTime = 1604486349271;\\n        var soonToBeDeprecatedBrowser = false;\\n        var uxVersions = [\"v4\",\"verticals_round\",\"verticals_redirect\",\"blue_links\"];\\n        var testGroupPer = 20;\\n        var isMobile = false;\\n        var isTablet = false;\\n        var noPopin = false;\\n    </script>\\n\\n    <script src=\"js/templates.js?1604396809809\"></script>\\n    <script src=\"js/app.js?1604396809809\"></script>\\n    <script>\\n        var httpAcceptLanguage = \"en\";\\n        configOverloadProxy();\\n        configurationGenerate();\\n    </script>\\n    <script src=\"js/bootstrap.js?1604396809809\"></script>\\n    <script>\\n        (function (document, navigator, CACHE, IE9TO11) {\\n            if (IE9TO11) actionManager.onCustomEvent(this, \\'rendered\\', function () {\\n                [].forEach.call(document.querySelectorAll(\\'use\\'), function (use) {\\n                    var\\n                        svg = use.parentNode,\\n                        url = use.getAttribute(\\'xlink:href\\').split(\\'#\\'),\\n                        url_root = url[0],\\n                        url_hash = url[1],\\n                        xhr = CACHE[url_root] = CACHE[url_root] || new XMLHttpRequest();\\n                    if (!use.getAttribute(\\'noxhr\\') && url_root) {\\n                        if (!xhr.s) {\\n                            xhr.s = [];\\n                            xhr.open(\\'GET\\', url_root);\\n                            xhr.onload = function () {\\n                                var x = document.createElement(\\'x\\'), s = xhr.s;\\n                                x.innerHTML = xhr.responseText;\\n                                xhr.onload = function () {\\n                                    s.splice(0).map(function (array) {\\n                                        var g = x.querySelector(\\'#\\' + array[2]);\\n                                        if (g) array[0].replaceChild(g.cloneNode(true), array[1]);\\n                                    });\\n                                };\\n                                xhr.onload();\\n                            };\\n                            xhr.send();\\n                        }\\n                        xhr.s.push([svg, use, url_hash]);\\n                        if (xhr.responseText) xhr.onload();\\n                    }\\n                });\\n            });\\n        })(\\n            document,\\n            navigator,\\n            {},\\n            /Trident\\\\/[567]\\\\b/.test(navigator.userAgent)\\n        );\\n    </script>\\n</body>\\n</html>\\n<!-- This comment is expected by the docker HEALTHCHECK  -->\\n<!-- see: CI-177 -->'\n"
          ],
          "name": "stdout"
        }
      ]
    },
    {
      "cell_type": "code",
      "metadata": {
        "id": "QMOIGTqG2WUa",
        "outputId": "426b0e4f-25ff-4ead-908f-cfe394eee834",
        "colab": {
          "base_uri": "https://localhost:8080/",
          "height": 346
        }
      },
      "source": [
        "\n",
        "from selenium.webdriver.support.ui import WebDriverWait\n",
        "from selenium.webdriver.support import expected_conditions as EC\n",
        "from selenium.webdriver.common.by import By\n",
        "\n",
        "wd.get(URL)\n",
        "WebDriverWait(wd, 20).until(EC.visibility_of_element_located((By.CLASS_NAME, \"div.image_preview__action--container\")))\n",
        "print(wd.page_source)\n",
        "\n",
        "print(html2)"
      ],
      "execution_count": null,
      "outputs": [
        {
          "output_type": "error",
          "ename": "TimeoutException",
          "evalue": "ignored",
          "traceback": [
            "\u001b[0;31m---------------------------------------------------------------------------\u001b[0m",
            "\u001b[0;31mTimeoutException\u001b[0m                          Traceback (most recent call last)",
            "\u001b[0;32m<ipython-input-41-7d9d2cdfb66f>\u001b[0m in \u001b[0;36m<module>\u001b[0;34m()\u001b[0m\n\u001b[1;32m      5\u001b[0m \u001b[0;34m\u001b[0m\u001b[0m\n\u001b[1;32m      6\u001b[0m \u001b[0mwd\u001b[0m\u001b[0;34m.\u001b[0m\u001b[0mget\u001b[0m\u001b[0;34m(\u001b[0m\u001b[0mURL\u001b[0m\u001b[0;34m)\u001b[0m\u001b[0;34m\u001b[0m\u001b[0;34m\u001b[0m\u001b[0m\n\u001b[0;32m----> 7\u001b[0;31m \u001b[0mWebDriverWait\u001b[0m\u001b[0;34m(\u001b[0m\u001b[0mwd\u001b[0m\u001b[0;34m,\u001b[0m \u001b[0;36m20\u001b[0m\u001b[0;34m)\u001b[0m\u001b[0;34m.\u001b[0m\u001b[0muntil\u001b[0m\u001b[0;34m(\u001b[0m\u001b[0mEC\u001b[0m\u001b[0;34m.\u001b[0m\u001b[0mvisibility_of_element_located\u001b[0m\u001b[0;34m(\u001b[0m\u001b[0;34m(\u001b[0m\u001b[0mBy\u001b[0m\u001b[0;34m.\u001b[0m\u001b[0mCLASS_NAME\u001b[0m\u001b[0;34m,\u001b[0m \u001b[0;34m\"div.image_preview__action--container\"\u001b[0m\u001b[0;34m)\u001b[0m\u001b[0;34m)\u001b[0m\u001b[0;34m)\u001b[0m\u001b[0;34m\u001b[0m\u001b[0;34m\u001b[0m\u001b[0m\n\u001b[0m\u001b[1;32m      8\u001b[0m \u001b[0mprint\u001b[0m\u001b[0;34m(\u001b[0m\u001b[0mwd\u001b[0m\u001b[0;34m.\u001b[0m\u001b[0mpage_source\u001b[0m\u001b[0;34m)\u001b[0m\u001b[0;34m\u001b[0m\u001b[0;34m\u001b[0m\u001b[0m\n\u001b[1;32m      9\u001b[0m \u001b[0;34m\u001b[0m\u001b[0m\n",
            "\u001b[0;32m/usr/local/lib/python3.6/dist-packages/selenium/webdriver/support/wait.py\u001b[0m in \u001b[0;36muntil\u001b[0;34m(self, method, message)\u001b[0m\n\u001b[1;32m     78\u001b[0m             \u001b[0;32mif\u001b[0m \u001b[0mtime\u001b[0m\u001b[0;34m.\u001b[0m\u001b[0mtime\u001b[0m\u001b[0;34m(\u001b[0m\u001b[0;34m)\u001b[0m \u001b[0;34m>\u001b[0m \u001b[0mend_time\u001b[0m\u001b[0;34m:\u001b[0m\u001b[0;34m\u001b[0m\u001b[0;34m\u001b[0m\u001b[0m\n\u001b[1;32m     79\u001b[0m                 \u001b[0;32mbreak\u001b[0m\u001b[0;34m\u001b[0m\u001b[0;34m\u001b[0m\u001b[0m\n\u001b[0;32m---> 80\u001b[0;31m         \u001b[0;32mraise\u001b[0m \u001b[0mTimeoutException\u001b[0m\u001b[0;34m(\u001b[0m\u001b[0mmessage\u001b[0m\u001b[0;34m,\u001b[0m \u001b[0mscreen\u001b[0m\u001b[0;34m,\u001b[0m \u001b[0mstacktrace\u001b[0m\u001b[0;34m)\u001b[0m\u001b[0;34m\u001b[0m\u001b[0;34m\u001b[0m\u001b[0m\n\u001b[0m\u001b[1;32m     81\u001b[0m \u001b[0;34m\u001b[0m\u001b[0m\n\u001b[1;32m     82\u001b[0m     \u001b[0;32mdef\u001b[0m \u001b[0muntil_not\u001b[0m\u001b[0;34m(\u001b[0m\u001b[0mself\u001b[0m\u001b[0;34m,\u001b[0m \u001b[0mmethod\u001b[0m\u001b[0;34m,\u001b[0m \u001b[0mmessage\u001b[0m\u001b[0;34m=\u001b[0m\u001b[0;34m''\u001b[0m\u001b[0;34m)\u001b[0m\u001b[0;34m:\u001b[0m\u001b[0;34m\u001b[0m\u001b[0;34m\u001b[0m\u001b[0m\n",
            "\u001b[0;31mTimeoutException\u001b[0m: Message: \n"
          ]
        }
      ]
    }
  ]
}